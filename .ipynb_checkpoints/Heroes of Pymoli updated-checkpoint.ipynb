{
 "cells": [
  {
   "cell_type": "markdown",
   "metadata": {},
   "source": [
    "# Observations\n",
    "\n",
    "1) According to this dataset, males buy a lot more items than females and other non-binary gender classifications. This dataset is heavily skewed to males so it makes sense.\n",
    "\n",
    "2) The primary age group for this game ranges from 20-24 years old. These individuals generally spend 3x more than any other age range. Once the totals are normalized though, the amount spent within the game is pretty even across groups. \n",
    "\n",
    "3) For this particular dataset, it is interesting to note that of the top five most popular items, only one item was also within the group of five most profitable items. This item was the Retribution Axe which was the most profitable item and fourth most popular item.\n"
   ]
  },
  {
   "cell_type": "markdown",
   "metadata": {},
   "source": [
    "**Player Count**\n",
    "\n",
    "* Total Number of Players"
   ]
  },
  {
   "cell_type": "code",
   "execution_count": 18,
   "metadata": {},
   "outputs": [],
   "source": [
    "# Dependencies\n",
    "import pandas as pd\n",
    "import json"
   ]
  },
  {
   "cell_type": "code",
   "execution_count": 19,
   "metadata": {},
   "outputs": [
    {
     "data": {
      "text/plain": [
       "'purchase_data.json'"
      ]
     },
     "execution_count": 19,
     "metadata": {},
     "output_type": "execute_result"
    }
   ],
   "source": [
    "path_to_data_file = \"purchase_data.json\"\n",
    "path_to_data_file"
   ]
  },
  {
   "cell_type": "code",
   "execution_count": 20,
   "metadata": {},
   "outputs": [],
   "source": [
    "#purchase_data_pimoli = pd.read_json(path_to_data_file, orient='records')\n",
    "\n",
    "purchase_data_pimoli = pd.read_json(path_to_data_file, orient=\"records\")"
   ]
  },
  {
   "cell_type": "code",
   "execution_count": 21,
   "metadata": {},
   "outputs": [
    {
     "data": {
      "text/plain": [
       "pandas.core.frame.DataFrame"
      ]
     },
     "execution_count": 21,
     "metadata": {},
     "output_type": "execute_result"
    }
   ],
   "source": [
    "# Check type \n",
    "\n",
    "type(purchase_data_pimoli)"
   ]
  },
  {
   "cell_type": "code",
   "execution_count": 22,
   "metadata": {},
   "outputs": [
    {
     "name": "stdout",
     "output_type": "stream",
     "text": [
      "<class 'pandas.core.frame.DataFrame'>\n",
      "RangeIndex: 780 entries, 0 to 779\n",
      "Data columns (total 6 columns):\n",
      "Age          780 non-null int64\n",
      "Gender       780 non-null object\n",
      "Item ID      780 non-null int64\n",
      "Item Name    780 non-null object\n",
      "Price        780 non-null float64\n",
      "SN           780 non-null object\n",
      "dtypes: float64(1), int64(2), object(3)\n",
      "memory usage: 36.6+ KB\n"
     ]
    }
   ],
   "source": [
    "# Find out relevant information about the DataFrame\n",
    "purchase_data_pimoli.info()"
   ]
  },
  {
   "cell_type": "code",
   "execution_count": 23,
   "metadata": {},
   "outputs": [
    {
     "data": {
      "text/html": [
       "<div>\n",
       "<style scoped>\n",
       "    .dataframe tbody tr th:only-of-type {\n",
       "        vertical-align: middle;\n",
       "    }\n",
       "\n",
       "    .dataframe tbody tr th {\n",
       "        vertical-align: top;\n",
       "    }\n",
       "\n",
       "    .dataframe thead th {\n",
       "        text-align: right;\n",
       "    }\n",
       "</style>\n",
       "<table border=\"1\" class=\"dataframe\">\n",
       "  <thead>\n",
       "    <tr style=\"text-align: right;\">\n",
       "      <th></th>\n",
       "      <th>Age</th>\n",
       "      <th>Gender</th>\n",
       "      <th>Item ID</th>\n",
       "      <th>Item Name</th>\n",
       "      <th>Price</th>\n",
       "      <th>SN</th>\n",
       "    </tr>\n",
       "  </thead>\n",
       "  <tbody>\n",
       "    <tr>\n",
       "      <th>0</th>\n",
       "      <td>38</td>\n",
       "      <td>Male</td>\n",
       "      <td>165</td>\n",
       "      <td>Bone Crushing Silver Skewer</td>\n",
       "      <td>3.37</td>\n",
       "      <td>Aelalis34</td>\n",
       "    </tr>\n",
       "    <tr>\n",
       "      <th>1</th>\n",
       "      <td>21</td>\n",
       "      <td>Male</td>\n",
       "      <td>119</td>\n",
       "      <td>Stormbringer, Dark Blade of Ending Misery</td>\n",
       "      <td>2.32</td>\n",
       "      <td>Eolo46</td>\n",
       "    </tr>\n",
       "    <tr>\n",
       "      <th>2</th>\n",
       "      <td>34</td>\n",
       "      <td>Male</td>\n",
       "      <td>174</td>\n",
       "      <td>Primitive Blade</td>\n",
       "      <td>2.46</td>\n",
       "      <td>Assastnya25</td>\n",
       "    </tr>\n",
       "    <tr>\n",
       "      <th>3</th>\n",
       "      <td>21</td>\n",
       "      <td>Male</td>\n",
       "      <td>92</td>\n",
       "      <td>Final Critic</td>\n",
       "      <td>1.36</td>\n",
       "      <td>Pheusrical25</td>\n",
       "    </tr>\n",
       "    <tr>\n",
       "      <th>4</th>\n",
       "      <td>23</td>\n",
       "      <td>Male</td>\n",
       "      <td>63</td>\n",
       "      <td>Stormfury Mace</td>\n",
       "      <td>1.27</td>\n",
       "      <td>Aela59</td>\n",
       "    </tr>\n",
       "    <tr>\n",
       "      <th>5</th>\n",
       "      <td>20</td>\n",
       "      <td>Male</td>\n",
       "      <td>10</td>\n",
       "      <td>Sleepwalker</td>\n",
       "      <td>1.73</td>\n",
       "      <td>Tanimnya91</td>\n",
       "    </tr>\n",
       "    <tr>\n",
       "      <th>6</th>\n",
       "      <td>20</td>\n",
       "      <td>Male</td>\n",
       "      <td>153</td>\n",
       "      <td>Mercenary Sabre</td>\n",
       "      <td>4.57</td>\n",
       "      <td>Undjaskla97</td>\n",
       "    </tr>\n",
       "    <tr>\n",
       "      <th>7</th>\n",
       "      <td>29</td>\n",
       "      <td>Female</td>\n",
       "      <td>169</td>\n",
       "      <td>Interrogator, Blood Blade of the Queen</td>\n",
       "      <td>3.32</td>\n",
       "      <td>Iathenudil29</td>\n",
       "    </tr>\n",
       "    <tr>\n",
       "      <th>8</th>\n",
       "      <td>25</td>\n",
       "      <td>Male</td>\n",
       "      <td>118</td>\n",
       "      <td>Ghost Reaver, Longsword of Magic</td>\n",
       "      <td>2.77</td>\n",
       "      <td>Sondenasta63</td>\n",
       "    </tr>\n",
       "    <tr>\n",
       "      <th>9</th>\n",
       "      <td>31</td>\n",
       "      <td>Male</td>\n",
       "      <td>99</td>\n",
       "      <td>Expiration, Warscythe Of Lost Worlds</td>\n",
       "      <td>4.53</td>\n",
       "      <td>Hilaerin92</td>\n",
       "    </tr>\n",
       "    <tr>\n",
       "      <th>10</th>\n",
       "      <td>24</td>\n",
       "      <td>Male</td>\n",
       "      <td>57</td>\n",
       "      <td>Despair, Favor of Due Diligence</td>\n",
       "      <td>3.81</td>\n",
       "      <td>Chamosia29</td>\n",
       "    </tr>\n",
       "    <tr>\n",
       "      <th>11</th>\n",
       "      <td>20</td>\n",
       "      <td>Male</td>\n",
       "      <td>47</td>\n",
       "      <td>Alpha, Reach of Ending Hope</td>\n",
       "      <td>1.55</td>\n",
       "      <td>Sally64</td>\n",
       "    </tr>\n",
       "    <tr>\n",
       "      <th>12</th>\n",
       "      <td>30</td>\n",
       "      <td>Male</td>\n",
       "      <td>81</td>\n",
       "      <td>Dreamkiss</td>\n",
       "      <td>4.06</td>\n",
       "      <td>Iskossa88</td>\n",
       "    </tr>\n",
       "    <tr>\n",
       "      <th>13</th>\n",
       "      <td>23</td>\n",
       "      <td>Male</td>\n",
       "      <td>77</td>\n",
       "      <td>Piety, Guardian of Riddles</td>\n",
       "      <td>3.68</td>\n",
       "      <td>Seorithstilis90</td>\n",
       "    </tr>\n",
       "    <tr>\n",
       "      <th>14</th>\n",
       "      <td>40</td>\n",
       "      <td>Male</td>\n",
       "      <td>44</td>\n",
       "      <td>Bonecarvin Battle Axe</td>\n",
       "      <td>2.46</td>\n",
       "      <td>Sundast29</td>\n",
       "    </tr>\n",
       "    <tr>\n",
       "      <th>15</th>\n",
       "      <td>21</td>\n",
       "      <td>Male</td>\n",
       "      <td>96</td>\n",
       "      <td>Blood-Forged Skeletal Spine</td>\n",
       "      <td>4.77</td>\n",
       "      <td>Haellysu29</td>\n",
       "    </tr>\n",
       "    <tr>\n",
       "      <th>16</th>\n",
       "      <td>22</td>\n",
       "      <td>Female</td>\n",
       "      <td>123</td>\n",
       "      <td>Twilight's Carver</td>\n",
       "      <td>1.14</td>\n",
       "      <td>Sundista85</td>\n",
       "    </tr>\n",
       "    <tr>\n",
       "      <th>17</th>\n",
       "      <td>22</td>\n",
       "      <td>Female</td>\n",
       "      <td>59</td>\n",
       "      <td>Lightning, Etcher of the King</td>\n",
       "      <td>1.65</td>\n",
       "      <td>Aenarap34</td>\n",
       "    </tr>\n",
       "    <tr>\n",
       "      <th>18</th>\n",
       "      <td>28</td>\n",
       "      <td>Male</td>\n",
       "      <td>91</td>\n",
       "      <td>Celeste</td>\n",
       "      <td>3.71</td>\n",
       "      <td>Iskista88</td>\n",
       "    </tr>\n",
       "    <tr>\n",
       "      <th>19</th>\n",
       "      <td>31</td>\n",
       "      <td>Male</td>\n",
       "      <td>177</td>\n",
       "      <td>Winterthorn, Defender of Shifting Worlds</td>\n",
       "      <td>4.89</td>\n",
       "      <td>Assossa43</td>\n",
       "    </tr>\n",
       "  </tbody>\n",
       "</table>\n",
       "</div>"
      ],
      "text/plain": [
       "    Age  Gender  Item ID                                  Item Name  Price  \\\n",
       "0    38    Male      165                Bone Crushing Silver Skewer   3.37   \n",
       "1    21    Male      119  Stormbringer, Dark Blade of Ending Misery   2.32   \n",
       "2    34    Male      174                            Primitive Blade   2.46   \n",
       "3    21    Male       92                               Final Critic   1.36   \n",
       "4    23    Male       63                             Stormfury Mace   1.27   \n",
       "5    20    Male       10                                Sleepwalker   1.73   \n",
       "6    20    Male      153                            Mercenary Sabre   4.57   \n",
       "7    29  Female      169     Interrogator, Blood Blade of the Queen   3.32   \n",
       "8    25    Male      118           Ghost Reaver, Longsword of Magic   2.77   \n",
       "9    31    Male       99       Expiration, Warscythe Of Lost Worlds   4.53   \n",
       "10   24    Male       57            Despair, Favor of Due Diligence   3.81   \n",
       "11   20    Male       47                Alpha, Reach of Ending Hope   1.55   \n",
       "12   30    Male       81                                  Dreamkiss   4.06   \n",
       "13   23    Male       77                 Piety, Guardian of Riddles   3.68   \n",
       "14   40    Male       44                      Bonecarvin Battle Axe   2.46   \n",
       "15   21    Male       96                Blood-Forged Skeletal Spine   4.77   \n",
       "16   22  Female      123                          Twilight's Carver   1.14   \n",
       "17   22  Female       59              Lightning, Etcher of the King   1.65   \n",
       "18   28    Male       91                                    Celeste   3.71   \n",
       "19   31    Male      177   Winterthorn, Defender of Shifting Worlds   4.89   \n",
       "\n",
       "                 SN  \n",
       "0         Aelalis34  \n",
       "1            Eolo46  \n",
       "2       Assastnya25  \n",
       "3      Pheusrical25  \n",
       "4            Aela59  \n",
       "5        Tanimnya91  \n",
       "6       Undjaskla97  \n",
       "7      Iathenudil29  \n",
       "8      Sondenasta63  \n",
       "9        Hilaerin92  \n",
       "10       Chamosia29  \n",
       "11          Sally64  \n",
       "12        Iskossa88  \n",
       "13  Seorithstilis90  \n",
       "14        Sundast29  \n",
       "15       Haellysu29  \n",
       "16       Sundista85  \n",
       "17        Aenarap34  \n",
       "18        Iskista88  \n",
       "19        Assossa43  "
      ]
     },
     "execution_count": 23,
     "metadata": {},
     "output_type": "execute_result"
    }
   ],
   "source": [
    "# View the first 20 rows of the DataFrame\n",
    "\n",
    "purchase_data_pimoli.head(20)"
   ]
  },
  {
   "cell_type": "code",
   "execution_count": 24,
   "metadata": {},
   "outputs": [],
   "source": [
    "# Drop the duplicate SN(s) and return the total number of rows with only unique SN\n",
    "\n",
    "total_players = purchase_data_pimoli['SN'].nunique()\n",
    "\n",
    "#Store that number as a list\n",
    "\n",
    "total_players_in_game = [total_players]\n"
   ]
  },
  {
   "cell_type": "code",
   "execution_count": 25,
   "metadata": {},
   "outputs": [
    {
     "data": {
      "text/plain": [
       "int"
      ]
     },
     "execution_count": 25,
     "metadata": {},
     "output_type": "execute_result"
    }
   ],
   "source": [
    "type(total_players)"
   ]
  },
  {
   "cell_type": "code",
   "execution_count": 26,
   "metadata": {},
   "outputs": [],
   "source": [
    "# Create a new DataFrame with the stored list as the row and Total Players as the column\n",
    "\n",
    "total_players_df = pd.DataFrame(total_players_in_game, columns = ['Total Players'])"
   ]
  },
  {
   "cell_type": "code",
   "execution_count": 27,
   "metadata": {},
   "outputs": [
    {
     "data": {
      "text/plain": [
       "list"
      ]
     },
     "execution_count": 27,
     "metadata": {},
     "output_type": "execute_result"
    }
   ],
   "source": [
    "type(total_players_in_game)"
   ]
  },
  {
   "cell_type": "code",
   "execution_count": 28,
   "metadata": {},
   "outputs": [
    {
     "data": {
      "text/html": [
       "<div>\n",
       "<style scoped>\n",
       "    .dataframe tbody tr th:only-of-type {\n",
       "        vertical-align: middle;\n",
       "    }\n",
       "\n",
       "    .dataframe tbody tr th {\n",
       "        vertical-align: top;\n",
       "    }\n",
       "\n",
       "    .dataframe thead th {\n",
       "        text-align: right;\n",
       "    }\n",
       "</style>\n",
       "<table border=\"1\" class=\"dataframe\">\n",
       "  <thead>\n",
       "    <tr style=\"text-align: right;\">\n",
       "      <th></th>\n",
       "      <th>Total Players</th>\n",
       "    </tr>\n",
       "  </thead>\n",
       "  <tbody>\n",
       "    <tr>\n",
       "      <th>0</th>\n",
       "      <td>573</td>\n",
       "    </tr>\n",
       "  </tbody>\n",
       "</table>\n",
       "</div>"
      ],
      "text/plain": [
       "   Total Players\n",
       "0            573"
      ]
     },
     "execution_count": 28,
     "metadata": {},
     "output_type": "execute_result"
    }
   ],
   "source": [
    "total_players_df"
   ]
  },
  {
   "cell_type": "markdown",
   "metadata": {},
   "source": [
    "# Purchasing Analysis (Total)"
   ]
  },
  {
   "cell_type": "markdown",
   "metadata": {},
   "source": [
    "* Number of Unique Items\n",
    "* Average Purchase Price\n",
    "* Total Number of Purchases\n",
    "* Total Revenue\n"
   ]
  },
  {
   "cell_type": "code",
   "execution_count": 29,
   "metadata": {
    "scrolled": true
   },
   "outputs": [
    {
     "data": {
      "text/html": [
       "<div>\n",
       "<style scoped>\n",
       "    .dataframe tbody tr th:only-of-type {\n",
       "        vertical-align: middle;\n",
       "    }\n",
       "\n",
       "    .dataframe tbody tr th {\n",
       "        vertical-align: top;\n",
       "    }\n",
       "\n",
       "    .dataframe thead th {\n",
       "        text-align: right;\n",
       "    }\n",
       "</style>\n",
       "<table border=\"1\" class=\"dataframe\">\n",
       "  <thead>\n",
       "    <tr style=\"text-align: right;\">\n",
       "      <th></th>\n",
       "      <th>Age</th>\n",
       "      <th>Gender</th>\n",
       "      <th>Item ID</th>\n",
       "      <th>Item Name</th>\n",
       "      <th>Price</th>\n",
       "      <th>SN</th>\n",
       "    </tr>\n",
       "  </thead>\n",
       "  <tbody>\n",
       "    <tr>\n",
       "      <th>0</th>\n",
       "      <td>38</td>\n",
       "      <td>Male</td>\n",
       "      <td>165</td>\n",
       "      <td>Bone Crushing Silver Skewer</td>\n",
       "      <td>3.37</td>\n",
       "      <td>Aelalis34</td>\n",
       "    </tr>\n",
       "    <tr>\n",
       "      <th>1</th>\n",
       "      <td>21</td>\n",
       "      <td>Male</td>\n",
       "      <td>119</td>\n",
       "      <td>Stormbringer, Dark Blade of Ending Misery</td>\n",
       "      <td>2.32</td>\n",
       "      <td>Eolo46</td>\n",
       "    </tr>\n",
       "    <tr>\n",
       "      <th>2</th>\n",
       "      <td>34</td>\n",
       "      <td>Male</td>\n",
       "      <td>174</td>\n",
       "      <td>Primitive Blade</td>\n",
       "      <td>2.46</td>\n",
       "      <td>Assastnya25</td>\n",
       "    </tr>\n",
       "    <tr>\n",
       "      <th>3</th>\n",
       "      <td>21</td>\n",
       "      <td>Male</td>\n",
       "      <td>92</td>\n",
       "      <td>Final Critic</td>\n",
       "      <td>1.36</td>\n",
       "      <td>Pheusrical25</td>\n",
       "    </tr>\n",
       "    <tr>\n",
       "      <th>4</th>\n",
       "      <td>23</td>\n",
       "      <td>Male</td>\n",
       "      <td>63</td>\n",
       "      <td>Stormfury Mace</td>\n",
       "      <td>1.27</td>\n",
       "      <td>Aela59</td>\n",
       "    </tr>\n",
       "    <tr>\n",
       "      <th>5</th>\n",
       "      <td>20</td>\n",
       "      <td>Male</td>\n",
       "      <td>10</td>\n",
       "      <td>Sleepwalker</td>\n",
       "      <td>1.73</td>\n",
       "      <td>Tanimnya91</td>\n",
       "    </tr>\n",
       "    <tr>\n",
       "      <th>6</th>\n",
       "      <td>20</td>\n",
       "      <td>Male</td>\n",
       "      <td>153</td>\n",
       "      <td>Mercenary Sabre</td>\n",
       "      <td>4.57</td>\n",
       "      <td>Undjaskla97</td>\n",
       "    </tr>\n",
       "    <tr>\n",
       "      <th>7</th>\n",
       "      <td>29</td>\n",
       "      <td>Female</td>\n",
       "      <td>169</td>\n",
       "      <td>Interrogator, Blood Blade of the Queen</td>\n",
       "      <td>3.32</td>\n",
       "      <td>Iathenudil29</td>\n",
       "    </tr>\n",
       "    <tr>\n",
       "      <th>8</th>\n",
       "      <td>25</td>\n",
       "      <td>Male</td>\n",
       "      <td>118</td>\n",
       "      <td>Ghost Reaver, Longsword of Magic</td>\n",
       "      <td>2.77</td>\n",
       "      <td>Sondenasta63</td>\n",
       "    </tr>\n",
       "    <tr>\n",
       "      <th>9</th>\n",
       "      <td>31</td>\n",
       "      <td>Male</td>\n",
       "      <td>99</td>\n",
       "      <td>Expiration, Warscythe Of Lost Worlds</td>\n",
       "      <td>4.53</td>\n",
       "      <td>Hilaerin92</td>\n",
       "    </tr>\n",
       "    <tr>\n",
       "      <th>10</th>\n",
       "      <td>24</td>\n",
       "      <td>Male</td>\n",
       "      <td>57</td>\n",
       "      <td>Despair, Favor of Due Diligence</td>\n",
       "      <td>3.81</td>\n",
       "      <td>Chamosia29</td>\n",
       "    </tr>\n",
       "    <tr>\n",
       "      <th>11</th>\n",
       "      <td>20</td>\n",
       "      <td>Male</td>\n",
       "      <td>47</td>\n",
       "      <td>Alpha, Reach of Ending Hope</td>\n",
       "      <td>1.55</td>\n",
       "      <td>Sally64</td>\n",
       "    </tr>\n",
       "    <tr>\n",
       "      <th>12</th>\n",
       "      <td>30</td>\n",
       "      <td>Male</td>\n",
       "      <td>81</td>\n",
       "      <td>Dreamkiss</td>\n",
       "      <td>4.06</td>\n",
       "      <td>Iskossa88</td>\n",
       "    </tr>\n",
       "    <tr>\n",
       "      <th>13</th>\n",
       "      <td>23</td>\n",
       "      <td>Male</td>\n",
       "      <td>77</td>\n",
       "      <td>Piety, Guardian of Riddles</td>\n",
       "      <td>3.68</td>\n",
       "      <td>Seorithstilis90</td>\n",
       "    </tr>\n",
       "    <tr>\n",
       "      <th>14</th>\n",
       "      <td>40</td>\n",
       "      <td>Male</td>\n",
       "      <td>44</td>\n",
       "      <td>Bonecarvin Battle Axe</td>\n",
       "      <td>2.46</td>\n",
       "      <td>Sundast29</td>\n",
       "    </tr>\n",
       "    <tr>\n",
       "      <th>15</th>\n",
       "      <td>21</td>\n",
       "      <td>Male</td>\n",
       "      <td>96</td>\n",
       "      <td>Blood-Forged Skeletal Spine</td>\n",
       "      <td>4.77</td>\n",
       "      <td>Haellysu29</td>\n",
       "    </tr>\n",
       "    <tr>\n",
       "      <th>16</th>\n",
       "      <td>22</td>\n",
       "      <td>Female</td>\n",
       "      <td>123</td>\n",
       "      <td>Twilight's Carver</td>\n",
       "      <td>1.14</td>\n",
       "      <td>Sundista85</td>\n",
       "    </tr>\n",
       "    <tr>\n",
       "      <th>17</th>\n",
       "      <td>22</td>\n",
       "      <td>Female</td>\n",
       "      <td>59</td>\n",
       "      <td>Lightning, Etcher of the King</td>\n",
       "      <td>1.65</td>\n",
       "      <td>Aenarap34</td>\n",
       "    </tr>\n",
       "    <tr>\n",
       "      <th>18</th>\n",
       "      <td>28</td>\n",
       "      <td>Male</td>\n",
       "      <td>91</td>\n",
       "      <td>Celeste</td>\n",
       "      <td>3.71</td>\n",
       "      <td>Iskista88</td>\n",
       "    </tr>\n",
       "    <tr>\n",
       "      <th>19</th>\n",
       "      <td>31</td>\n",
       "      <td>Male</td>\n",
       "      <td>177</td>\n",
       "      <td>Winterthorn, Defender of Shifting Worlds</td>\n",
       "      <td>4.89</td>\n",
       "      <td>Assossa43</td>\n",
       "    </tr>\n",
       "  </tbody>\n",
       "</table>\n",
       "</div>"
      ],
      "text/plain": [
       "    Age  Gender  Item ID                                  Item Name  Price  \\\n",
       "0    38    Male      165                Bone Crushing Silver Skewer   3.37   \n",
       "1    21    Male      119  Stormbringer, Dark Blade of Ending Misery   2.32   \n",
       "2    34    Male      174                            Primitive Blade   2.46   \n",
       "3    21    Male       92                               Final Critic   1.36   \n",
       "4    23    Male       63                             Stormfury Mace   1.27   \n",
       "5    20    Male       10                                Sleepwalker   1.73   \n",
       "6    20    Male      153                            Mercenary Sabre   4.57   \n",
       "7    29  Female      169     Interrogator, Blood Blade of the Queen   3.32   \n",
       "8    25    Male      118           Ghost Reaver, Longsword of Magic   2.77   \n",
       "9    31    Male       99       Expiration, Warscythe Of Lost Worlds   4.53   \n",
       "10   24    Male       57            Despair, Favor of Due Diligence   3.81   \n",
       "11   20    Male       47                Alpha, Reach of Ending Hope   1.55   \n",
       "12   30    Male       81                                  Dreamkiss   4.06   \n",
       "13   23    Male       77                 Piety, Guardian of Riddles   3.68   \n",
       "14   40    Male       44                      Bonecarvin Battle Axe   2.46   \n",
       "15   21    Male       96                Blood-Forged Skeletal Spine   4.77   \n",
       "16   22  Female      123                          Twilight's Carver   1.14   \n",
       "17   22  Female       59              Lightning, Etcher of the King   1.65   \n",
       "18   28    Male       91                                    Celeste   3.71   \n",
       "19   31    Male      177   Winterthorn, Defender of Shifting Worlds   4.89   \n",
       "\n",
       "                 SN  \n",
       "0         Aelalis34  \n",
       "1            Eolo46  \n",
       "2       Assastnya25  \n",
       "3      Pheusrical25  \n",
       "4            Aela59  \n",
       "5        Tanimnya91  \n",
       "6       Undjaskla97  \n",
       "7      Iathenudil29  \n",
       "8      Sondenasta63  \n",
       "9        Hilaerin92  \n",
       "10       Chamosia29  \n",
       "11          Sally64  \n",
       "12        Iskossa88  \n",
       "13  Seorithstilis90  \n",
       "14        Sundast29  \n",
       "15       Haellysu29  \n",
       "16       Sundista85  \n",
       "17        Aenarap34  \n",
       "18        Iskista88  \n",
       "19        Assossa43  "
      ]
     },
     "execution_count": 29,
     "metadata": {},
     "output_type": "execute_result"
    }
   ],
   "source": [
    "# View the first 20 rows of the original DataFrame\n",
    "\n",
    "purchase_data_pimoli.head(20)"
   ]
  },
  {
   "cell_type": "code",
   "execution_count": 30,
   "metadata": {},
   "outputs": [],
   "source": [
    "# unique_items_pimoli = purchase_data_pimoli.drop_duplicates(['Item Name'])\n",
    "\n",
    "# unique_items_pimoli.head(20)"
   ]
  },
  {
   "cell_type": "code",
   "execution_count": 31,
   "metadata": {},
   "outputs": [
    {
     "data": {
      "text/plain": [
       "179"
      ]
     },
     "execution_count": 31,
     "metadata": {},
     "output_type": "execute_result"
    }
   ],
   "source": [
    "# Drop the duplicate Item Names and return the total number of rows with only unique Item Names\n",
    "\n",
    "number_of_unique_items_pimoli =purchase_data_pimoli['Item Name'].nunique()\n",
    "\n",
    "number_of_unique_items_pimoli"
   ]
  },
  {
   "cell_type": "code",
   "execution_count": 33,
   "metadata": {},
   "outputs": [
    {
     "data": {
      "text/plain": [
       "Age        22.729487\n",
       "Item ID    91.293590\n",
       "Price       2.931192\n",
       "dtype: float64"
      ]
     },
     "execution_count": 33,
     "metadata": {},
     "output_type": "execute_result"
    }
   ],
   "source": [
    "# Returns the mean for each of the columns in the original DataFrame\n",
    "\n",
    "purchase_data_pimoli.mean()"
   ]
  },
  {
   "cell_type": "code",
   "execution_count": 34,
   "metadata": {},
   "outputs": [
    {
     "data": {
      "text/plain": [
       "'$2.93'"
      ]
     },
     "execution_count": 34,
     "metadata": {},
     "output_type": "execute_result"
    }
   ],
   "source": [
    "# Store the average purchase price in a variable \n",
    "\n",
    "avg_purchase_price = round(purchase_data_pimoli[\"Price\"].mean(),2)\n",
    "\n",
    "str_avg_purchase_price = '$' + str(avg_purchase_price)\n",
    "\n",
    "str_avg_purchase_price\n"
   ]
  },
  {
   "cell_type": "code",
   "execution_count": 35,
   "metadata": {},
   "outputs": [
    {
     "data": {
      "text/plain": [
       "780"
      ]
     },
     "execution_count": 35,
     "metadata": {},
     "output_type": "execute_result"
    }
   ],
   "source": [
    "# Calculate the total number of purchases in a variable by doing a count of the number of rows in the column Item ID in the original \n",
    "# DataFrame\n",
    "\n",
    "total_number_of_purchases = purchase_data_pimoli[\"Item ID\"].count()\n",
    "\n",
    "total_number_of_purchases"
   ]
  },
  {
   "cell_type": "code",
   "execution_count": 36,
   "metadata": {},
   "outputs": [
    {
     "data": {
      "text/plain": [
       "'$2286.33'"
      ]
     },
     "execution_count": 36,
     "metadata": {},
     "output_type": "execute_result"
    }
   ],
   "source": [
    "# Calculate the total revenue by summing up the price column of the original DataFrame(DF)\n",
    "\n",
    "total_revenue = purchase_data_pimoli[\"Price\"].sum()\n",
    "\n",
    "str_total_revenue = '$' + str(total_revenue)  \n",
    "\n",
    "str_total_revenue"
   ]
  },
  {
   "cell_type": "code",
   "execution_count": 37,
   "metadata": {},
   "outputs": [
    {
     "data": {
      "text/plain": [
       "[179, 2.93, 780, '$2286.33']"
      ]
     },
     "execution_count": 37,
     "metadata": {},
     "output_type": "execute_result"
    }
   ],
   "source": [
    "# Create a list that contains the relevant purchasing analysis information and store it in a variable\n",
    "\n",
    "purchasing_analysis_data = [number_of_unique_items_pimoli, avg_purchase_price, total_number_of_purchases, str_total_revenue]\n",
    "\n",
    "purchasing_analysis_data"
   ]
  },
  {
   "cell_type": "code",
   "execution_count": 38,
   "metadata": {},
   "outputs": [
    {
     "data": {
      "text/html": [
       "<div>\n",
       "<style scoped>\n",
       "    .dataframe tbody tr th:only-of-type {\n",
       "        vertical-align: middle;\n",
       "    }\n",
       "\n",
       "    .dataframe tbody tr th {\n",
       "        vertical-align: top;\n",
       "    }\n",
       "\n",
       "    .dataframe thead th {\n",
       "        text-align: right;\n",
       "    }\n",
       "</style>\n",
       "<table border=\"1\" class=\"dataframe\">\n",
       "  <thead>\n",
       "    <tr style=\"text-align: right;\">\n",
       "      <th></th>\n",
       "      <th>Average Purchase Price</th>\n",
       "      <th>Number of Unique Items</th>\n",
       "      <th>Total Number of Purchases</th>\n",
       "      <th>Total Revenue</th>\n",
       "    </tr>\n",
       "  </thead>\n",
       "  <tbody>\n",
       "    <tr>\n",
       "      <th>0</th>\n",
       "      <td>$2.93</td>\n",
       "      <td>179</td>\n",
       "      <td>780</td>\n",
       "      <td>$2286.33</td>\n",
       "    </tr>\n",
       "  </tbody>\n",
       "</table>\n",
       "</div>"
      ],
      "text/plain": [
       "  Average Purchase Price  Number of Unique Items  Total Number of Purchases  \\\n",
       "0                  $2.93                     179                        780   \n",
       "\n",
       "  Total Revenue  \n",
       "0      $2286.33  "
      ]
     },
     "execution_count": 38,
     "metadata": {},
     "output_type": "execute_result"
    }
   ],
   "source": [
    "# Create the new DataFrame which is a dictionary of lists \n",
    "\n",
    "purchasing_analysis_df = pd.DataFrame({'Number of Unique Items' : [number_of_unique_items_pimoli], 'Average Purchase Price' : [str_avg_purchase_price], 'Total Number of Purchases' : [total_number_of_purchases], 'Total Revenue' : [str_total_revenue]}, index = {0})\n",
    "\n",
    "purchasing_analysis_df"
   ]
  },
  {
   "cell_type": "markdown",
   "metadata": {},
   "source": [
    "# Gender Demographics"
   ]
  },
  {
   "cell_type": "markdown",
   "metadata": {},
   "source": [
    "* Percentage and Count of Male Players\n",
    "* Percentage and Count of Female Players\n",
    "* Percentage and Count of Other / Non-Disclosed\n"
   ]
  },
  {
   "cell_type": "code",
   "execution_count": 41,
   "metadata": {},
   "outputs": [],
   "source": [
    "# Count number of attendees who self-identify as male; female; or are of non-binary gender identification  \n",
    "\n",
    "total_players_gender = purchase_data_pimoli[\"Gender\"].count()\n",
    "total_players_gender\n",
    "male = purchase_data_pimoli[\"Gender\"].value_counts()['Male']\n",
    "male\n",
    "female = purchase_data_pimoli[\"Gender\"].value_counts()['Female']\n",
    "female\n",
    "othernd = purchase_data_pimoli[\"Gender\"].value_counts()[\"Other / Non-Disclosed\"]\n",
    "othernd\n",
    "non_gender_specific = total_players_gender - male - female\n",
    "#non_gender_specific\n",
    "#print(f\" Total: {total_players_gender}\\n Male: {male}\\n Female: {female}\\n non_specific: {non_gender_specific}\")"
   ]
  },
  {
   "cell_type": "code",
   "execution_count": 43,
   "metadata": {},
   "outputs": [
    {
     "data": {
      "text/plain": [
       "Male                     633\n",
       "Female                   136\n",
       "Other / Non-Disclosed     11\n",
       "Name: Gender, dtype: int64"
      ]
     },
     "execution_count": 43,
     "metadata": {},
     "output_type": "execute_result"
    }
   ],
   "source": [
    "#Verify that result\n",
    "\n",
    "purchase_data_pimoli[\"Gender\"].value_counts()"
   ]
  },
  {
   "cell_type": "code",
   "execution_count": 44,
   "metadata": {},
   "outputs": [
    {
     "name": "stdout",
     "output_type": "stream",
     "text": [
      " % Male: 81.15\n",
      " % Female: 17.44\n",
      " % non_specific: 1.41\n"
     ]
    }
   ],
   "source": [
    "#Calculate the percentage of players who self-identify as male; female; or are of non-binary gender identification \n",
    "\n",
    "male_percent = round((male/total_players_gender),4) * 100\n",
    "str_male_percent = str(male_percent) + '%'\n",
    "female_percent = round((female/total_players_gender),4) * 100\n",
    "str_female_percent = str(female_percent) + '%'\n",
    "non_gender_specific_percent = round((non_gender_specific/total_players_gender) * 100,3)\n",
    "str_non_gender_specific_percent = str(non_gender_specific_percent) + '%'\n",
    "print(f\" % Male: {male_percent}\\n % Female: {female_percent}\\n % non_specific: {non_gender_specific_percent}\")"
   ]
  },
  {
   "cell_type": "code",
   "execution_count": 45,
   "metadata": {},
   "outputs": [
    {
     "data": {
      "text/html": [
       "<div>\n",
       "<style scoped>\n",
       "    .dataframe tbody tr th:only-of-type {\n",
       "        vertical-align: middle;\n",
       "    }\n",
       "\n",
       "    .dataframe tbody tr th {\n",
       "        vertical-align: top;\n",
       "    }\n",
       "\n",
       "    .dataframe thead th {\n",
       "        text-align: right;\n",
       "    }\n",
       "</style>\n",
       "<table border=\"1\" class=\"dataframe\">\n",
       "  <thead>\n",
       "    <tr style=\"text-align: right;\">\n",
       "      <th></th>\n",
       "      <th>Percentage of Players</th>\n",
       "      <th>Total Count</th>\n",
       "    </tr>\n",
       "  </thead>\n",
       "  <tbody>\n",
       "    <tr>\n",
       "      <th>Male</th>\n",
       "      <td>81.15%</td>\n",
       "      <td>633</td>\n",
       "    </tr>\n",
       "    <tr>\n",
       "      <th>Female</th>\n",
       "      <td>17.44%</td>\n",
       "      <td>136</td>\n",
       "    </tr>\n",
       "    <tr>\n",
       "      <th>Other / Nondisclosed</th>\n",
       "      <td>1.41%</td>\n",
       "      <td>11</td>\n",
       "    </tr>\n",
       "  </tbody>\n",
       "</table>\n",
       "</div>"
      ],
      "text/plain": [
       "                     Percentage of Players  Total Count\n",
       "Male                                81.15%          633\n",
       "Female                              17.44%          136\n",
       "Other / Nondisclosed                 1.41%           11"
      ]
     },
     "execution_count": 45,
     "metadata": {},
     "output_type": "execute_result"
    }
   ],
   "source": [
    "#Create the new DataFrame with the gender demographic information\n",
    "\n",
    "gender_demographics_df = pd.DataFrame([[str_male_percent, male], [str_female_percent, female], [str_non_gender_specific_percent, non_gender_specific]], index = [\"Male\", \"Female\", str(\"Other / Nondisclosed\")], columns = ['Percentage of Players', 'Total Count'])\n",
    "gender_demographics_df"
   ]
  },
  {
   "cell_type": "markdown",
   "metadata": {},
   "source": [
    "# Purchasing Analysis (Gender)"
   ]
  },
  {
   "cell_type": "markdown",
   "metadata": {},
   "source": [
    "* The below each broken by gender\n",
    "  * Purchase Count\n",
    "  * Average Purchase Price\n",
    "  * Total Purchase Value\n",
    "  * Normalized Totals"
   ]
  },
  {
   "cell_type": "code",
   "execution_count": 46,
   "metadata": {},
   "outputs": [
    {
     "name": "stdout",
     "output_type": "stream",
     "text": [
      "<pandas.core.groupby.DataFrameGroupBy object at 0x00000278EB1C1278>\n"
     ]
    },
    {
     "data": {
      "text/html": [
       "<div>\n",
       "<style scoped>\n",
       "    .dataframe tbody tr th:only-of-type {\n",
       "        vertical-align: middle;\n",
       "    }\n",
       "\n",
       "    .dataframe tbody tr th {\n",
       "        vertical-align: top;\n",
       "    }\n",
       "\n",
       "    .dataframe thead th {\n",
       "        text-align: right;\n",
       "    }\n",
       "</style>\n",
       "<table border=\"1\" class=\"dataframe\">\n",
       "  <thead>\n",
       "    <tr style=\"text-align: right;\">\n",
       "      <th></th>\n",
       "      <th>Age</th>\n",
       "      <th>Item ID</th>\n",
       "      <th>Item Name</th>\n",
       "      <th>Price</th>\n",
       "      <th>SN</th>\n",
       "    </tr>\n",
       "    <tr>\n",
       "      <th>Gender</th>\n",
       "      <th></th>\n",
       "      <th></th>\n",
       "      <th></th>\n",
       "      <th></th>\n",
       "      <th></th>\n",
       "    </tr>\n",
       "  </thead>\n",
       "  <tbody>\n",
       "    <tr>\n",
       "      <th>Female</th>\n",
       "      <td>136</td>\n",
       "      <td>136</td>\n",
       "      <td>136</td>\n",
       "      <td>136</td>\n",
       "      <td>136</td>\n",
       "    </tr>\n",
       "    <tr>\n",
       "      <th>Male</th>\n",
       "      <td>633</td>\n",
       "      <td>633</td>\n",
       "      <td>633</td>\n",
       "      <td>633</td>\n",
       "      <td>633</td>\n",
       "    </tr>\n",
       "    <tr>\n",
       "      <th>Other / Non-Disclosed</th>\n",
       "      <td>11</td>\n",
       "      <td>11</td>\n",
       "      <td>11</td>\n",
       "      <td>11</td>\n",
       "      <td>11</td>\n",
       "    </tr>\n",
       "  </tbody>\n",
       "</table>\n",
       "</div>"
      ],
      "text/plain": [
       "                       Age  Item ID  Item Name  Price   SN\n",
       "Gender                                                    \n",
       "Female                 136      136        136    136  136\n",
       "Male                   633      633        633    633  633\n",
       "Other / Non-Disclosed   11       11         11     11   11"
      ]
     },
     "execution_count": 46,
     "metadata": {},
     "output_type": "execute_result"
    }
   ],
   "source": [
    "#Group the original DF by the gender column to get a DataFrameGroupBy object with all columns related to the gender categories\n",
    "\n",
    "grouped_purchase_analysis_gender = purchase_data_pimoli.groupby(['Gender'])\n",
    "\n",
    "print(grouped_purchase_analysis_gender)\n",
    "\n",
    "grouped_purchase_analysis_gender.count().head(10)\n"
   ]
  },
  {
   "cell_type": "code",
   "execution_count": 47,
   "metadata": {},
   "outputs": [],
   "source": [
    "# Get the size of the DataFrameGroupBy object and index it by each gender category to get its respective count\n",
    "\n",
    "gender_purchase_count = grouped_purchase_analysis_gender.size()\n",
    "gender_purchase_count_female = gender_purchase_count['Female']\n",
    "gender_purchase_count_male = gender_purchase_count['Male']\n",
    "gender_purchase_count_other = gender_purchase_count['Other / Non-Disclosed']"
   ]
  },
  {
   "cell_type": "code",
   "execution_count": 48,
   "metadata": {},
   "outputs": [
    {
     "data": {
      "text/plain": [
       "Gender\n",
       "Female                   136\n",
       "Male                     633\n",
       "Other / Non-Disclosed     11\n",
       "dtype: int64"
      ]
     },
     "execution_count": 48,
     "metadata": {},
     "output_type": "execute_result"
    }
   ],
   "source": [
    "#Verify the above result for the gender category counts\n",
    "\n",
    "gender_purchase_count"
   ]
  },
  {
   "cell_type": "code",
   "execution_count": 49,
   "metadata": {},
   "outputs": [
    {
     "data": {
      "text/plain": [
       "136"
      ]
     },
     "execution_count": 49,
     "metadata": {},
     "output_type": "execute_result"
    }
   ],
   "source": [
    "#Verify result\n",
    "\n",
    "gender_purchase_count_female"
   ]
  },
  {
   "cell_type": "code",
   "execution_count": 75,
   "metadata": {},
   "outputs": [
    {
     "data": {
      "text/plain": [
       "Gender\n",
       "Female                    382.91\n",
       "Male                     1867.68\n",
       "Other / Non-Disclosed      35.74\n",
       "Name: Price, dtype: float64"
      ]
     },
     "execution_count": 75,
     "metadata": {},
     "output_type": "execute_result"
    }
   ],
   "source": [
    "#Calculate the total revenue for each gender category\n",
    "\n",
    "gender_price = grouped_purchase_analysis_gender['Price'].sum()\n",
    "\n",
    "gender_price"
   ]
  },
  {
   "cell_type": "code",
   "execution_count": 76,
   "metadata": {},
   "outputs": [],
   "source": [
    "# Store each of the gender category total revenues in variables \n",
    "\n",
    "gender_price_female = round(gender_price['Female'],2)\n",
    "str_gender_price_female = '$' + str(gender_price_female)\n",
    "gender_price_male = round(gender_price['Male'],2)\n",
    "str_gender_price_male = '$' + str(gender_price_male)\n",
    "gender_price_other = round(gender_price['Other / Non-Disclosed'],2)\n",
    "str_gender_price_other = '$' + str(gender_price_other)"
   ]
  },
  {
   "cell_type": "code",
   "execution_count": 77,
   "metadata": {},
   "outputs": [
    {
     "data": {
      "text/plain": [
       "Gender\n",
       "Female                   2.82\n",
       "Male                     2.95\n",
       "Other / Non-Disclosed    3.25\n",
       "Name: Price, dtype: float64"
      ]
     },
     "execution_count": 77,
     "metadata": {},
     "output_type": "execute_result"
    }
   ],
   "source": [
    "#Calculate the average price spent on items for each gender category\n",
    "\n",
    "avg_gender_price = round(grouped_purchase_analysis_gender['Price'].mean(),2)\n",
    "\n",
    "avg_gender_price\n"
   ]
  },
  {
   "cell_type": "code",
   "execution_count": 78,
   "metadata": {},
   "outputs": [],
   "source": [
    "# Store each of the gender category average price spent on items in variables \n",
    "\n",
    "avg_gender_price_female = round(avg_gender_price['Female'],2)\n",
    "str_avg_gender_price_female = '$' + str(avg_gender_price_female) \n",
    "avg_gender_price_male = round(avg_gender_price['Male'],2)\n",
    "str_avg_gender_price_male = '$' + str(avg_gender_price_male)\n",
    "avg_gender_price_other = round(avg_gender_price['Other / Non-Disclosed'],2)\n",
    "str_avg_gender_price_other = '$' + str(avg_gender_price_other)"
   ]
  },
  {
   "cell_type": "code",
   "execution_count": 79,
   "metadata": {},
   "outputs": [],
   "source": [
    "# Calculate the normalized totals for each gender category\n",
    "\n",
    "normalize_total_female = round(gender_price_female/gender_purchase_count_female,2)\n",
    "str_normalize_total_female = '$' + str(normalize_total_female)\n",
    "normalize_total_male =  round(gender_price_male/gender_purchase_count_male,2)\n",
    "str_normalize_total_male = '$' + str(normalize_total_male)\n",
    "normalize_total_other = round(gender_price_other/gender_purchase_count_other,2)\n",
    "str_normalize_total_other = '$' + str(normalize_total_other)"
   ]
  },
  {
   "cell_type": "code",
   "execution_count": 80,
   "metadata": {},
   "outputs": [
    {
     "data": {
      "text/html": [
       "<div>\n",
       "<style scoped>\n",
       "    .dataframe tbody tr th:only-of-type {\n",
       "        vertical-align: middle;\n",
       "    }\n",
       "\n",
       "    .dataframe tbody tr th {\n",
       "        vertical-align: top;\n",
       "    }\n",
       "\n",
       "    .dataframe thead th {\n",
       "        text-align: right;\n",
       "    }\n",
       "</style>\n",
       "<table border=\"1\" class=\"dataframe\">\n",
       "  <thead>\n",
       "    <tr style=\"text-align: right;\">\n",
       "      <th></th>\n",
       "      <th>Gender</th>\n",
       "      <th>Purchase Count</th>\n",
       "      <th>Average Purchase Price</th>\n",
       "      <th>Total Purchase Value</th>\n",
       "      <th>Normalized Totals</th>\n",
       "    </tr>\n",
       "  </thead>\n",
       "  <tbody>\n",
       "    <tr>\n",
       "      <th>0</th>\n",
       "      <td>Female</td>\n",
       "      <td>136</td>\n",
       "      <td>$2.82</td>\n",
       "      <td>$382.91</td>\n",
       "      <td>$2.82</td>\n",
       "    </tr>\n",
       "    <tr>\n",
       "      <th>1</th>\n",
       "      <td>Male</td>\n",
       "      <td>633</td>\n",
       "      <td>$2.95</td>\n",
       "      <td>$1867.68</td>\n",
       "      <td>$2.95</td>\n",
       "    </tr>\n",
       "    <tr>\n",
       "      <th>2</th>\n",
       "      <td>Other / Non-Disclosed</td>\n",
       "      <td>11</td>\n",
       "      <td>$3.25</td>\n",
       "      <td>$35.74</td>\n",
       "      <td>$3.25</td>\n",
       "    </tr>\n",
       "  </tbody>\n",
       "</table>\n",
       "</div>"
      ],
      "text/plain": [
       "                  Gender  Purchase Count Average Purchase Price  \\\n",
       "0                 Female             136                  $2.82   \n",
       "1                   Male             633                  $2.95   \n",
       "2  Other / Non-Disclosed              11                  $3.25   \n",
       "\n",
       "  Total Purchase Value Normalized Totals  \n",
       "0              $382.91             $2.82  \n",
       "1             $1867.68             $2.95  \n",
       "2               $35.74             $3.25  "
      ]
     },
     "execution_count": 80,
     "metadata": {},
     "output_type": "execute_result"
    }
   ],
   "source": [
    "# Create the new DF for the gender purchasing information\n",
    "\n",
    "purchasing_analysis_gender = pd.DataFrame([[\"Female\",gender_purchase_count_female, str_avg_gender_price_female, str_gender_price_female, str_normalize_total_female], [\"Male\",gender_purchase_count_male, str_avg_gender_price_male, str_gender_price_male, str_normalize_total_male], [\"Other / Non-Disclosed\",gender_purchase_count_other, str_avg_gender_price_other, str_gender_price_other, str_normalize_total_other]], \\\n",
    "                                          columns = [\"Gender\",'Purchase Count', 'Average Purchase Price', 'Total Purchase Value', 'Normalized Totals'] )#index = ['Gender','Female', 'Male', 'Other / Non-Disclosed'], columns = ['Purchase Count', 'Average Purchase Price', 'Total Purchase Value', 'Normalized Totals'] )\n",
    "\n",
    "purchasing_analysis_gender"
   ]
  },
  {
   "cell_type": "markdown",
   "metadata": {},
   "source": [
    "# Age Demographics"
   ]
  },
  {
   "cell_type": "markdown",
   "metadata": {},
   "source": [
    "The below each broken into bins of 4 years (i.e. &lt;10, 10-14, 15-19, etc.) \n",
    "  * Purchase Count\n",
    "  * Average Purchase Price\n",
    "  * Total Purchase Value\n",
    "  * Normalized Totals"
   ]
  },
  {
   "cell_type": "code",
   "execution_count": 166,
   "metadata": {},
   "outputs": [
    {
     "data": {
      "text/plain": [
       "<pandas.core.groupby.DataFrameGroupBy object at 0x00000278EB429908>"
      ]
     },
     "execution_count": 166,
     "metadata": {},
     "output_type": "execute_result"
    }
   ],
   "source": [
    "# Group the original DF by the age column which creates a DataFrameGroupBy object\n",
    "\n",
    "purchase_analysis_age_group = purchase_data_pimoli.groupby(['Age'])\n",
    "\n",
    "purchase_analysis_age_group"
   ]
  },
  {
   "cell_type": "code",
   "execution_count": 167,
   "metadata": {},
   "outputs": [],
   "source": [
    "# defined bins and bin names\n",
    "age_bins = [0, 9.90, 14.90, 19.90, 24.90, 29.90, 34.90, 39.90, 99999]\n",
    "group_names = [\"<10\", \"10-14\", \"15-19\", \"20-24\", \"25-29\", \"30-34\", \"35-39\", \"40+\"]"
   ]
  },
  {
   "cell_type": "code",
   "execution_count": 168,
   "metadata": {},
   "outputs": [],
   "source": [
    "# Create the bins for the age groups\n",
    "\n",
    "purchase_data_pimoli[\"Age Ranges\"] = pd.cut(purchase_data_pimoli[\"Age\"], bins=age_bins, labels=group_names)"
   ]
  },
  {
   "cell_type": "code",
   "execution_count": 169,
   "metadata": {},
   "outputs": [],
   "source": [
    "# Set the new DF to be the original DF grouped by the age ranges bins\n",
    "\n",
    "purchase_data_pimoli_age_ranges_df = purchase_data_pimoli.groupby(\"Age Ranges\")"
   ]
  },
  {
   "cell_type": "code",
   "execution_count": 170,
   "metadata": {},
   "outputs": [
    {
     "data": {
      "text/html": [
       "<div>\n",
       "<style scoped>\n",
       "    .dataframe tbody tr th:only-of-type {\n",
       "        vertical-align: middle;\n",
       "    }\n",
       "\n",
       "    .dataframe tbody tr th {\n",
       "        vertical-align: top;\n",
       "    }\n",
       "\n",
       "    .dataframe thead th {\n",
       "        text-align: right;\n",
       "    }\n",
       "</style>\n",
       "<table border=\"1\" class=\"dataframe\">\n",
       "  <thead>\n",
       "    <tr style=\"text-align: right;\">\n",
       "      <th></th>\n",
       "      <th>Age</th>\n",
       "      <th>Item ID</th>\n",
       "      <th>Price</th>\n",
       "    </tr>\n",
       "    <tr>\n",
       "      <th>Age Ranges</th>\n",
       "      <th></th>\n",
       "      <th></th>\n",
       "      <th></th>\n",
       "    </tr>\n",
       "  </thead>\n",
       "  <tbody>\n",
       "    <tr>\n",
       "      <th>&lt;10</th>\n",
       "      <td>211</td>\n",
       "      <td>2305</td>\n",
       "      <td>83.46</td>\n",
       "    </tr>\n",
       "    <tr>\n",
       "      <th>10-14</th>\n",
       "      <td>426</td>\n",
       "      <td>3171</td>\n",
       "      <td>96.95</td>\n",
       "    </tr>\n",
       "    <tr>\n",
       "      <th>15-19</th>\n",
       "      <td>2212</td>\n",
       "      <td>12561</td>\n",
       "      <td>386.42</td>\n",
       "    </tr>\n",
       "    <tr>\n",
       "      <th>20-24</th>\n",
       "      <td>7350</td>\n",
       "      <td>28909</td>\n",
       "      <td>978.77</td>\n",
       "    </tr>\n",
       "    <tr>\n",
       "      <th>25-29</th>\n",
       "      <td>3275</td>\n",
       "      <td>11729</td>\n",
       "      <td>370.33</td>\n",
       "    </tr>\n",
       "    <tr>\n",
       "      <th>30-34</th>\n",
       "      <td>2023</td>\n",
       "      <td>6493</td>\n",
       "      <td>197.25</td>\n",
       "    </tr>\n",
       "    <tr>\n",
       "      <th>35-39</th>\n",
       "      <td>1542</td>\n",
       "      <td>4497</td>\n",
       "      <td>119.40</td>\n",
       "    </tr>\n",
       "    <tr>\n",
       "      <th>40+</th>\n",
       "      <td>690</td>\n",
       "      <td>1544</td>\n",
       "      <td>53.75</td>\n",
       "    </tr>\n",
       "  </tbody>\n",
       "</table>\n",
       "</div>"
      ],
      "text/plain": [
       "             Age  Item ID   Price\n",
       "Age Ranges                       \n",
       "<10          211     2305   83.46\n",
       "10-14        426     3171   96.95\n",
       "15-19       2212    12561  386.42\n",
       "20-24       7350    28909  978.77\n",
       "25-29       3275    11729  370.33\n",
       "30-34       2023     6493  197.25\n",
       "35-39       1542     4497  119.40\n",
       "40+          690     1544   53.75"
      ]
     },
     "execution_count": 170,
     "metadata": {},
     "output_type": "execute_result"
    }
   ],
   "source": [
    "# Displays the totals for the bins\n",
    "\n",
    "purchase_data_pimoli_age_ranges_df.sum()"
   ]
  },
  {
   "cell_type": "code",
   "execution_count": 171,
   "metadata": {},
   "outputs": [
    {
     "data": {
      "text/html": [
       "<div>\n",
       "<style scoped>\n",
       "    .dataframe tbody tr th:only-of-type {\n",
       "        vertical-align: middle;\n",
       "    }\n",
       "\n",
       "    .dataframe tbody tr th {\n",
       "        vertical-align: top;\n",
       "    }\n",
       "\n",
       "    .dataframe thead th {\n",
       "        text-align: right;\n",
       "    }\n",
       "</style>\n",
       "<table border=\"1\" class=\"dataframe\">\n",
       "  <thead>\n",
       "    <tr style=\"text-align: right;\">\n",
       "      <th></th>\n",
       "      <th>Age</th>\n",
       "      <th>Item ID</th>\n",
       "      <th>Price</th>\n",
       "    </tr>\n",
       "    <tr>\n",
       "      <th>Age Ranges</th>\n",
       "      <th></th>\n",
       "      <th></th>\n",
       "      <th></th>\n",
       "    </tr>\n",
       "  </thead>\n",
       "  <tbody>\n",
       "    <tr>\n",
       "      <th>&lt;10</th>\n",
       "      <td>7.535714</td>\n",
       "      <td>82.321429</td>\n",
       "      <td>2.980714</td>\n",
       "    </tr>\n",
       "    <tr>\n",
       "      <th>10-14</th>\n",
       "      <td>12.171429</td>\n",
       "      <td>90.600000</td>\n",
       "      <td>2.770000</td>\n",
       "    </tr>\n",
       "    <tr>\n",
       "      <th>15-19</th>\n",
       "      <td>16.631579</td>\n",
       "      <td>94.443609</td>\n",
       "      <td>2.905414</td>\n",
       "    </tr>\n",
       "    <tr>\n",
       "      <th>20-24</th>\n",
       "      <td>21.875000</td>\n",
       "      <td>86.038690</td>\n",
       "      <td>2.913006</td>\n",
       "    </tr>\n",
       "    <tr>\n",
       "      <th>25-29</th>\n",
       "      <td>26.200000</td>\n",
       "      <td>93.832000</td>\n",
       "      <td>2.962640</td>\n",
       "    </tr>\n",
       "    <tr>\n",
       "      <th>30-34</th>\n",
       "      <td>31.609375</td>\n",
       "      <td>101.453125</td>\n",
       "      <td>3.082031</td>\n",
       "    </tr>\n",
       "    <tr>\n",
       "      <th>35-39</th>\n",
       "      <td>36.714286</td>\n",
       "      <td>107.071429</td>\n",
       "      <td>2.842857</td>\n",
       "    </tr>\n",
       "    <tr>\n",
       "      <th>40+</th>\n",
       "      <td>40.588235</td>\n",
       "      <td>90.823529</td>\n",
       "      <td>3.161765</td>\n",
       "    </tr>\n",
       "  </tbody>\n",
       "</table>\n",
       "</div>"
      ],
      "text/plain": [
       "                  Age     Item ID     Price\n",
       "Age Ranges                                 \n",
       "<10          7.535714   82.321429  2.980714\n",
       "10-14       12.171429   90.600000  2.770000\n",
       "15-19       16.631579   94.443609  2.905414\n",
       "20-24       21.875000   86.038690  2.913006\n",
       "25-29       26.200000   93.832000  2.962640\n",
       "30-34       31.609375  101.453125  3.082031\n",
       "35-39       36.714286  107.071429  2.842857\n",
       "40+         40.588235   90.823529  3.161765"
      ]
     },
     "execution_count": 171,
     "metadata": {},
     "output_type": "execute_result"
    }
   ],
   "source": [
    "# Displays the means for the bins\n",
    "\n",
    "purchase_data_pimoli_age_ranges_df.mean()"
   ]
  },
  {
   "cell_type": "code",
   "execution_count": 172,
   "metadata": {},
   "outputs": [
    {
     "data": {
      "text/html": [
       "<div>\n",
       "<style scoped>\n",
       "    .dataframe tbody tr th:only-of-type {\n",
       "        vertical-align: middle;\n",
       "    }\n",
       "\n",
       "    .dataframe tbody tr th {\n",
       "        vertical-align: top;\n",
       "    }\n",
       "\n",
       "    .dataframe thead th {\n",
       "        text-align: right;\n",
       "    }\n",
       "</style>\n",
       "<table border=\"1\" class=\"dataframe\">\n",
       "  <thead>\n",
       "    <tr style=\"text-align: right;\">\n",
       "      <th></th>\n",
       "      <th>Age</th>\n",
       "      <th>Gender</th>\n",
       "      <th>Item ID</th>\n",
       "      <th>Item Name</th>\n",
       "      <th>Price</th>\n",
       "      <th>SN</th>\n",
       "    </tr>\n",
       "    <tr>\n",
       "      <th>Age Ranges</th>\n",
       "      <th></th>\n",
       "      <th></th>\n",
       "      <th></th>\n",
       "      <th></th>\n",
       "      <th></th>\n",
       "      <th></th>\n",
       "    </tr>\n",
       "  </thead>\n",
       "  <tbody>\n",
       "    <tr>\n",
       "      <th>&lt;10</th>\n",
       "      <td>28</td>\n",
       "      <td>28</td>\n",
       "      <td>28</td>\n",
       "      <td>28</td>\n",
       "      <td>28</td>\n",
       "      <td>28</td>\n",
       "    </tr>\n",
       "    <tr>\n",
       "      <th>10-14</th>\n",
       "      <td>35</td>\n",
       "      <td>35</td>\n",
       "      <td>35</td>\n",
       "      <td>35</td>\n",
       "      <td>35</td>\n",
       "      <td>35</td>\n",
       "    </tr>\n",
       "    <tr>\n",
       "      <th>15-19</th>\n",
       "      <td>133</td>\n",
       "      <td>133</td>\n",
       "      <td>133</td>\n",
       "      <td>133</td>\n",
       "      <td>133</td>\n",
       "      <td>133</td>\n",
       "    </tr>\n",
       "    <tr>\n",
       "      <th>20-24</th>\n",
       "      <td>336</td>\n",
       "      <td>336</td>\n",
       "      <td>336</td>\n",
       "      <td>336</td>\n",
       "      <td>336</td>\n",
       "      <td>336</td>\n",
       "    </tr>\n",
       "    <tr>\n",
       "      <th>25-29</th>\n",
       "      <td>125</td>\n",
       "      <td>125</td>\n",
       "      <td>125</td>\n",
       "      <td>125</td>\n",
       "      <td>125</td>\n",
       "      <td>125</td>\n",
       "    </tr>\n",
       "    <tr>\n",
       "      <th>30-34</th>\n",
       "      <td>64</td>\n",
       "      <td>64</td>\n",
       "      <td>64</td>\n",
       "      <td>64</td>\n",
       "      <td>64</td>\n",
       "      <td>64</td>\n",
       "    </tr>\n",
       "    <tr>\n",
       "      <th>35-39</th>\n",
       "      <td>42</td>\n",
       "      <td>42</td>\n",
       "      <td>42</td>\n",
       "      <td>42</td>\n",
       "      <td>42</td>\n",
       "      <td>42</td>\n",
       "    </tr>\n",
       "    <tr>\n",
       "      <th>40+</th>\n",
       "      <td>17</td>\n",
       "      <td>17</td>\n",
       "      <td>17</td>\n",
       "      <td>17</td>\n",
       "      <td>17</td>\n",
       "      <td>17</td>\n",
       "    </tr>\n",
       "  </tbody>\n",
       "</table>\n",
       "</div>"
      ],
      "text/plain": [
       "            Age  Gender  Item ID  Item Name  Price   SN\n",
       "Age Ranges                                             \n",
       "<10          28      28       28         28     28   28\n",
       "10-14        35      35       35         35     35   35\n",
       "15-19       133     133      133        133    133  133\n",
       "20-24       336     336      336        336    336  336\n",
       "25-29       125     125      125        125    125  125\n",
       "30-34        64      64       64         64     64   64\n",
       "35-39        42      42       42         42     42   42\n",
       "40+          17      17       17         17     17   17"
      ]
     },
     "execution_count": 172,
     "metadata": {},
     "output_type": "execute_result"
    }
   ],
   "source": [
    "# Display the counts for each of the bins\n",
    "\n",
    "purchase_data_pimoli_age_ranges_df.count()"
   ]
  },
  {
   "cell_type": "code",
   "execution_count": 173,
   "metadata": {},
   "outputs": [],
   "source": [
    "# Store the purchase counts for each bin \n",
    "\n",
    "age_purchase_count = purchase_data_pimoli_age_ranges_df.size()\n",
    "age_purchase_count_bin_one = age_purchase_count['<10']\n",
    "age_purchase_count_bin_two = age_purchase_count['10-14']\n",
    "age_purchase_count_bin_three = age_purchase_count['15-19']\n",
    "age_purchase_count_bin_four = age_purchase_count['20-24']\n",
    "age_purchase_count_bin_five = age_purchase_count['25-29']\n",
    "age_purchase_count_bin_six = age_purchase_count['30-34']\n",
    "age_purchase_count_bin_seven = age_purchase_count['35-39']\n",
    "age_purchase_count_bin_eight = age_purchase_count['40+']"
   ]
  },
  {
   "cell_type": "code",
   "execution_count": 174,
   "metadata": {},
   "outputs": [
    {
     "data": {
      "text/plain": [
       "'$28'"
      ]
     },
     "execution_count": 174,
     "metadata": {},
     "output_type": "execute_result"
    }
   ],
   "source": [
    "str_age_purchase_count_bin_one"
   ]
  },
  {
   "cell_type": "code",
   "execution_count": 175,
   "metadata": {},
   "outputs": [],
   "source": [
    "# Store the average price for each bin \n",
    "\n",
    "age_purchase_avg_price = purchase_data_pimoli_age_ranges_df.mean()\n",
    "age_purchase_avg_price_bin_one = round((age_purchase_avg_price['Price'][0]),2)\n",
    "str_age_purchase_avg_price_bin_one = '$' + str(age_purchase_avg_price_bin_one)\n",
    "age_purchase_avg_price_bin_two = round(age_purchase_avg_price['Price'][1],2)\n",
    "str_age_purchase_avg_price_bin_two = '$' + str(age_purchase_avg_price_bin_two)\n",
    "age_purchase_avg_price_bin_three = round(age_purchase_avg_price['Price'][2],2)\n",
    "str_age_purchase_avg_price_bin_three = '$' + str(age_purchase_avg_price_bin_three)\n",
    "age_purchase_avg_price_bin_four = round(age_purchase_avg_price['Price'][3],2)\n",
    "str_age_purchase_avg_price_bin_four = '$' + str(age_purchase_avg_price_bin_four)\n",
    "age_purchase_avg_price_bin_five = round(age_purchase_avg_price['Price'][4],2)\n",
    "str_age_purchase_avg_price_bin_five = '$' + str(age_purchase_avg_price_bin_five)\n",
    "age_purchase_avg_price_bin_six = round(age_purchase_avg_price['Price'][5],2)\n",
    "str_age_purchase_avg_price_bin_six = '$' + str(age_purchase_avg_price_bin_six)\n",
    "age_purchase_avg_price_bin_seven = round(age_purchase_avg_price['Price'][6],2)\n",
    "str_age_purchase_avg_price_bin_seven = '$' + str(age_purchase_avg_price_bin_seven)\n",
    "age_purchase_avg_price_bin_eight = round(age_purchase_avg_price['Price'][7],2)\n",
    "str_age_purchase_avg_price_bin_eight = '$' + str(age_purchase_avg_price_bin_eight)"
   ]
  },
  {
   "cell_type": "code",
   "execution_count": 176,
   "metadata": {},
   "outputs": [
    {
     "data": {
      "text/plain": [
       "'$2.98'"
      ]
     },
     "execution_count": 176,
     "metadata": {},
     "output_type": "execute_result"
    }
   ],
   "source": [
    "# Verify the result\n",
    "\n",
    "str_age_purchase_avg_price_bin_one = '$' + str(age_purchase_avg_price_bin_one)\n",
    "str_age_purchase_avg_price_bin_one"
   ]
  },
  {
   "cell_type": "code",
   "execution_count": 177,
   "metadata": {},
   "outputs": [],
   "source": [
    "# Store the total price for each bin\n",
    "\n",
    "age_purchase_total_price = purchase_data_pimoli_age_ranges_df.sum()\n",
    "age_purchase_total_purchase_value_bin_one = round(age_purchase_total_price['Price'][0],2)\n",
    "str_age_purchase_total_purchase_value_bin_one = '$' + str(age_purchase_total_purchase_value_bin_one)\n",
    "age_purchase_total_purchase_value_bin_two = round(age_purchase_total_price['Price'][1],2)\n",
    "str_age_purchase_total_purchase_value_bin_two = '$' + str(age_purchase_total_purchase_value_bin_two)\n",
    "age_purchase_total_purchase_value_bin_three = round(age_purchase_total_price['Price'][2],2)\n",
    "str_age_purchase_total_purchase_value_bin_three= '$' + str(age_purchase_total_purchase_value_bin_three)\n",
    "age_purchase_total_purchase_value_bin_four = round(age_purchase_total_price['Price'][3],2)\n",
    "str_age_purchase_total_purchase_value_bin_four= '$' + str(age_purchase_total_purchase_value_bin_four)\n",
    "age_purchase_total_purchase_value_bin_five = round(age_purchase_total_price['Price'][4],2)\n",
    "str_age_purchase_total_purchase_value_bin_five = '$' + str(age_purchase_total_purchase_value_bin_five)\n",
    "age_purchase_total_purchase_value_bin_six = round(age_purchase_total_price['Price'][5],2)\n",
    "str_age_purchase_total_purchase_value_bin_six = '$' + str(age_purchase_total_purchase_value_bin_six)\n",
    "age_purchase_total_purchase_value_bin_seven = round(age_purchase_total_price['Price'][6],2)\n",
    "str_age_purchase_total_purchase_value_bin_seven = '$' + str(age_purchase_total_purchase_value_bin_seven)\n",
    "age_purchase_total_purchase_value_bin_eight = round(age_purchase_total_price['Price'][7],2)\n",
    "str_age_purchase_total_purchase_value_bin_eight = '$' + str(age_purchase_total_purchase_value_bin_eight)"
   ]
  },
  {
   "cell_type": "code",
   "execution_count": 178,
   "metadata": {},
   "outputs": [
    {
     "data": {
      "text/plain": [
       "83.46"
      ]
     },
     "execution_count": 178,
     "metadata": {},
     "output_type": "execute_result"
    }
   ],
   "source": [
    "age_purchase_total_purchase_value_bin_one"
   ]
  },
  {
   "cell_type": "code",
   "execution_count": 179,
   "metadata": {},
   "outputs": [],
   "source": [
    "# Store the normalized total for each bin\n",
    "\n",
    "age_normalized_total = age_purchase_total_price/age_purchase_count\n",
    "age_normalized_total_bin_one = round(age_purchase_total_purchase_value_bin_one/age_purchase_count_bin_one,2)\n",
    "str_age_normalized_total_bin_one = '$' + str(age_normalized_total_bin_one)\n",
    "age_normalized_total_bin_two = round(age_purchase_total_purchase_value_bin_two/age_purchase_count_bin_two,2)\n",
    "str_age_normalized_total_bin_two= '$' + str(age_normalized_total_bin_two)\n",
    "age_normalized_total_bin_three = round(age_purchase_total_purchase_value_bin_three/age_purchase_count_bin_three,2)\n",
    "str_age_normalized_total_bin_three = '$' + str(age_normalized_total_bin_three)\n",
    "age_normalized_total_bin_four = round(age_purchase_total_purchase_value_bin_four/age_purchase_count_bin_four,2)\n",
    "str_age_normalized_total_bin_four = '$' + str(age_normalized_total_bin_four)\n",
    "age_normalized_total_bin_five = round(age_purchase_total_purchase_value_bin_five/age_purchase_count_bin_five,2)\n",
    "str_age_normalized_total_bin_five = '$' + str(age_normalized_total_bin_five)\n",
    "age_normalized_total_bin_six = round(age_purchase_total_purchase_value_bin_six/age_purchase_count_bin_six,2)\n",
    "str_age_normalized_total_bin_six = '$' + str(age_normalized_total_bin_six)\n",
    "age_normalized_total_bin_seven = round(age_purchase_total_purchase_value_bin_seven/age_purchase_count_bin_seven,2)\n",
    "str_age_normalized_total_bin_seven = '$' + str(age_normalized_total_bin_seven)\n",
    "age_normalized_total_bin_eight = round(age_purchase_total_purchase_value_bin_eight/age_purchase_count_bin_eight,2)\n",
    "str_age_normalized_total_bin_eight = '$' + str(age_normalized_total_bin_eight)"
   ]
  },
  {
   "cell_type": "code",
   "execution_count": 180,
   "metadata": {},
   "outputs": [
    {
     "data": {
      "text/plain": [
       "2.98"
      ]
     },
     "execution_count": 180,
     "metadata": {},
     "output_type": "execute_result"
    }
   ],
   "source": [
    "# Verify results\n",
    "\n",
    "age_normalized_total_bin_one"
   ]
  },
  {
   "cell_type": "code",
   "execution_count": 181,
   "metadata": {},
   "outputs": [
    {
     "data": {
      "text/plain": [
       "2.77"
      ]
     },
     "execution_count": 181,
     "metadata": {},
     "output_type": "execute_result"
    }
   ],
   "source": [
    "age_normalized_total_bin_two"
   ]
  },
  {
   "cell_type": "code",
   "execution_count": 184,
   "metadata": {},
   "outputs": [
    {
     "data": {
      "text/html": [
       "<div>\n",
       "<style scoped>\n",
       "    .dataframe tbody tr th:only-of-type {\n",
       "        vertical-align: middle;\n",
       "    }\n",
       "\n",
       "    .dataframe tbody tr th {\n",
       "        vertical-align: top;\n",
       "    }\n",
       "\n",
       "    .dataframe thead th {\n",
       "        text-align: right;\n",
       "    }\n",
       "</style>\n",
       "<table border=\"1\" class=\"dataframe\">\n",
       "  <thead>\n",
       "    <tr style=\"text-align: right;\">\n",
       "      <th></th>\n",
       "      <th>Age</th>\n",
       "      <th>Purchase Count</th>\n",
       "      <th>Average Purchase Price</th>\n",
       "      <th>Total Purchase Value</th>\n",
       "      <th>Normalized Totals</th>\n",
       "    </tr>\n",
       "  </thead>\n",
       "  <tbody>\n",
       "    <tr>\n",
       "      <th>0</th>\n",
       "      <td>&lt;10</td>\n",
       "      <td>28</td>\n",
       "      <td>$2.98</td>\n",
       "      <td>$83.46</td>\n",
       "      <td>$2.98</td>\n",
       "    </tr>\n",
       "    <tr>\n",
       "      <th>1</th>\n",
       "      <td>10-14</td>\n",
       "      <td>35</td>\n",
       "      <td>$2.77</td>\n",
       "      <td>$96.95</td>\n",
       "      <td>$2.77</td>\n",
       "    </tr>\n",
       "    <tr>\n",
       "      <th>2</th>\n",
       "      <td>15-19</td>\n",
       "      <td>133</td>\n",
       "      <td>$2.91</td>\n",
       "      <td>$386.42</td>\n",
       "      <td>$2.91</td>\n",
       "    </tr>\n",
       "    <tr>\n",
       "      <th>3</th>\n",
       "      <td>20-24</td>\n",
       "      <td>336</td>\n",
       "      <td>$2.91</td>\n",
       "      <td>$978.77</td>\n",
       "      <td>$2.91</td>\n",
       "    </tr>\n",
       "    <tr>\n",
       "      <th>4</th>\n",
       "      <td>25-29</td>\n",
       "      <td>125</td>\n",
       "      <td>$2.96</td>\n",
       "      <td>$370.33</td>\n",
       "      <td>$2.96</td>\n",
       "    </tr>\n",
       "    <tr>\n",
       "      <th>5</th>\n",
       "      <td>30-34</td>\n",
       "      <td>64</td>\n",
       "      <td>$3.08</td>\n",
       "      <td>$197.25</td>\n",
       "      <td>$3.08</td>\n",
       "    </tr>\n",
       "    <tr>\n",
       "      <th>6</th>\n",
       "      <td>35-39</td>\n",
       "      <td>42</td>\n",
       "      <td>$2.84</td>\n",
       "      <td>$119.4</td>\n",
       "      <td>$2.84</td>\n",
       "    </tr>\n",
       "    <tr>\n",
       "      <th>7</th>\n",
       "      <td>40+</td>\n",
       "      <td>17</td>\n",
       "      <td>$3.16</td>\n",
       "      <td>$53.75</td>\n",
       "      <td>$3.16</td>\n",
       "    </tr>\n",
       "  </tbody>\n",
       "</table>\n",
       "</div>"
      ],
      "text/plain": [
       "     Age  Purchase Count Average Purchase Price Total Purchase Value  \\\n",
       "0    <10              28                  $2.98               $83.46   \n",
       "1  10-14              35                  $2.77               $96.95   \n",
       "2  15-19             133                  $2.91              $386.42   \n",
       "3  20-24             336                  $2.91              $978.77   \n",
       "4  25-29             125                  $2.96              $370.33   \n",
       "5  30-34              64                  $3.08              $197.25   \n",
       "6  35-39              42                  $2.84               $119.4   \n",
       "7    40+              17                  $3.16               $53.75   \n",
       "\n",
       "  Normalized Totals  \n",
       "0             $2.98  \n",
       "1             $2.77  \n",
       "2             $2.91  \n",
       "3             $2.91  \n",
       "4             $2.96  \n",
       "5             $3.08  \n",
       "6             $2.84  \n",
       "7             $3.16  "
      ]
     },
     "execution_count": 184,
     "metadata": {},
     "output_type": "execute_result"
    }
   ],
   "source": [
    "# Create the new DF for the age demographics\n",
    "\n",
    "age_demographics_df = pd.DataFrame([['<10', age_purchase_count_bin_one, str_age_purchase_avg_price_bin_one, str_age_purchase_total_purchase_value_bin_one, str_age_normalized_total_bin_one ], ['10-14', age_purchase_count_bin_two, str_age_purchase_avg_price_bin_two, str_age_purchase_total_purchase_value_bin_two, str_age_normalized_total_bin_two], ['15-19', age_purchase_count_bin_three, str_age_purchase_avg_price_bin_three, str_age_purchase_total_purchase_value_bin_three, str_age_normalized_total_bin_three], ['20-24', age_purchase_count_bin_four, str_age_purchase_avg_price_bin_four, str_age_purchase_total_purchase_value_bin_four, str_age_normalized_total_bin_four], ['25-29', age_purchase_count_bin_five, str_age_purchase_avg_price_bin_five, str_age_purchase_total_purchase_value_bin_five, str_age_normalized_total_bin_five], ['30-34', age_purchase_count_bin_six, str_age_purchase_avg_price_bin_six, str_age_purchase_total_purchase_value_bin_six, str_age_normalized_total_bin_six], ['35-39', age_purchase_count_bin_seven, str_age_purchase_avg_price_bin_seven, str_age_purchase_total_purchase_value_bin_seven, str_age_normalized_total_bin_seven], ['40+', age_purchase_count_bin_eight, str_age_purchase_avg_price_bin_eight, str_age_purchase_total_purchase_value_bin_eight, str_age_normalized_total_bin_eight]], columns = ['Age','Purchase Count', 'Average Purchase Price', 'Total Purchase Value', 'Normalized Totals'])\n",
    "\n",
    "age_demographics_df"
   ]
  },
  {
   "cell_type": "markdown",
   "metadata": {},
   "source": [
    "# Top Spenders"
   ]
  },
  {
   "cell_type": "markdown",
   "metadata": {},
   "source": [
    " Identify the the top 5 spenders in the game by total purchase value, then list (in a table):\n",
    "  * SN\n",
    "  * Purchase Count\n",
    "  * Average Purchase Price\n",
    "  * Total Purchase Value"
   ]
  },
  {
   "cell_type": "code",
   "execution_count": 206,
   "metadata": {},
   "outputs": [
    {
     "data": {
      "text/html": [
       "<div>\n",
       "<style scoped>\n",
       "    .dataframe tbody tr th:only-of-type {\n",
       "        vertical-align: middle;\n",
       "    }\n",
       "\n",
       "    .dataframe tbody tr th {\n",
       "        vertical-align: top;\n",
       "    }\n",
       "\n",
       "    .dataframe thead th {\n",
       "        text-align: right;\n",
       "    }\n",
       "</style>\n",
       "<table border=\"1\" class=\"dataframe\">\n",
       "  <thead>\n",
       "    <tr style=\"text-align: right;\">\n",
       "      <th></th>\n",
       "      <th>Age</th>\n",
       "      <th>Gender</th>\n",
       "      <th>Item ID</th>\n",
       "      <th>Item Name</th>\n",
       "      <th>Price</th>\n",
       "      <th>SN</th>\n",
       "      <th>Age Ranges</th>\n",
       "    </tr>\n",
       "  </thead>\n",
       "  <tbody>\n",
       "    <tr>\n",
       "      <th>0</th>\n",
       "      <td>38</td>\n",
       "      <td>Male</td>\n",
       "      <td>165</td>\n",
       "      <td>Bone Crushing Silver Skewer</td>\n",
       "      <td>3.37</td>\n",
       "      <td>Aelalis34</td>\n",
       "      <td>35-39</td>\n",
       "    </tr>\n",
       "    <tr>\n",
       "      <th>1</th>\n",
       "      <td>21</td>\n",
       "      <td>Male</td>\n",
       "      <td>119</td>\n",
       "      <td>Stormbringer, Dark Blade of Ending Misery</td>\n",
       "      <td>2.32</td>\n",
       "      <td>Eolo46</td>\n",
       "      <td>20-24</td>\n",
       "    </tr>\n",
       "    <tr>\n",
       "      <th>2</th>\n",
       "      <td>34</td>\n",
       "      <td>Male</td>\n",
       "      <td>174</td>\n",
       "      <td>Primitive Blade</td>\n",
       "      <td>2.46</td>\n",
       "      <td>Assastnya25</td>\n",
       "      <td>30-34</td>\n",
       "    </tr>\n",
       "    <tr>\n",
       "      <th>3</th>\n",
       "      <td>21</td>\n",
       "      <td>Male</td>\n",
       "      <td>92</td>\n",
       "      <td>Final Critic</td>\n",
       "      <td>1.36</td>\n",
       "      <td>Pheusrical25</td>\n",
       "      <td>20-24</td>\n",
       "    </tr>\n",
       "    <tr>\n",
       "      <th>4</th>\n",
       "      <td>23</td>\n",
       "      <td>Male</td>\n",
       "      <td>63</td>\n",
       "      <td>Stormfury Mace</td>\n",
       "      <td>1.27</td>\n",
       "      <td>Aela59</td>\n",
       "      <td>20-24</td>\n",
       "    </tr>\n",
       "    <tr>\n",
       "      <th>5</th>\n",
       "      <td>20</td>\n",
       "      <td>Male</td>\n",
       "      <td>10</td>\n",
       "      <td>Sleepwalker</td>\n",
       "      <td>1.73</td>\n",
       "      <td>Tanimnya91</td>\n",
       "      <td>20-24</td>\n",
       "    </tr>\n",
       "    <tr>\n",
       "      <th>6</th>\n",
       "      <td>20</td>\n",
       "      <td>Male</td>\n",
       "      <td>153</td>\n",
       "      <td>Mercenary Sabre</td>\n",
       "      <td>4.57</td>\n",
       "      <td>Undjaskla97</td>\n",
       "      <td>20-24</td>\n",
       "    </tr>\n",
       "    <tr>\n",
       "      <th>7</th>\n",
       "      <td>29</td>\n",
       "      <td>Female</td>\n",
       "      <td>169</td>\n",
       "      <td>Interrogator, Blood Blade of the Queen</td>\n",
       "      <td>3.32</td>\n",
       "      <td>Iathenudil29</td>\n",
       "      <td>25-29</td>\n",
       "    </tr>\n",
       "    <tr>\n",
       "      <th>8</th>\n",
       "      <td>25</td>\n",
       "      <td>Male</td>\n",
       "      <td>118</td>\n",
       "      <td>Ghost Reaver, Longsword of Magic</td>\n",
       "      <td>2.77</td>\n",
       "      <td>Sondenasta63</td>\n",
       "      <td>25-29</td>\n",
       "    </tr>\n",
       "    <tr>\n",
       "      <th>9</th>\n",
       "      <td>31</td>\n",
       "      <td>Male</td>\n",
       "      <td>99</td>\n",
       "      <td>Expiration, Warscythe Of Lost Worlds</td>\n",
       "      <td>4.53</td>\n",
       "      <td>Hilaerin92</td>\n",
       "      <td>30-34</td>\n",
       "    </tr>\n",
       "    <tr>\n",
       "      <th>10</th>\n",
       "      <td>24</td>\n",
       "      <td>Male</td>\n",
       "      <td>57</td>\n",
       "      <td>Despair, Favor of Due Diligence</td>\n",
       "      <td>3.81</td>\n",
       "      <td>Chamosia29</td>\n",
       "      <td>20-24</td>\n",
       "    </tr>\n",
       "    <tr>\n",
       "      <th>11</th>\n",
       "      <td>20</td>\n",
       "      <td>Male</td>\n",
       "      <td>47</td>\n",
       "      <td>Alpha, Reach of Ending Hope</td>\n",
       "      <td>1.55</td>\n",
       "      <td>Sally64</td>\n",
       "      <td>20-24</td>\n",
       "    </tr>\n",
       "    <tr>\n",
       "      <th>12</th>\n",
       "      <td>30</td>\n",
       "      <td>Male</td>\n",
       "      <td>81</td>\n",
       "      <td>Dreamkiss</td>\n",
       "      <td>4.06</td>\n",
       "      <td>Iskossa88</td>\n",
       "      <td>30-34</td>\n",
       "    </tr>\n",
       "    <tr>\n",
       "      <th>13</th>\n",
       "      <td>23</td>\n",
       "      <td>Male</td>\n",
       "      <td>77</td>\n",
       "      <td>Piety, Guardian of Riddles</td>\n",
       "      <td>3.68</td>\n",
       "      <td>Seorithstilis90</td>\n",
       "      <td>20-24</td>\n",
       "    </tr>\n",
       "    <tr>\n",
       "      <th>14</th>\n",
       "      <td>40</td>\n",
       "      <td>Male</td>\n",
       "      <td>44</td>\n",
       "      <td>Bonecarvin Battle Axe</td>\n",
       "      <td>2.46</td>\n",
       "      <td>Sundast29</td>\n",
       "      <td>40+</td>\n",
       "    </tr>\n",
       "    <tr>\n",
       "      <th>15</th>\n",
       "      <td>21</td>\n",
       "      <td>Male</td>\n",
       "      <td>96</td>\n",
       "      <td>Blood-Forged Skeletal Spine</td>\n",
       "      <td>4.77</td>\n",
       "      <td>Haellysu29</td>\n",
       "      <td>20-24</td>\n",
       "    </tr>\n",
       "    <tr>\n",
       "      <th>16</th>\n",
       "      <td>22</td>\n",
       "      <td>Female</td>\n",
       "      <td>123</td>\n",
       "      <td>Twilight's Carver</td>\n",
       "      <td>1.14</td>\n",
       "      <td>Sundista85</td>\n",
       "      <td>20-24</td>\n",
       "    </tr>\n",
       "    <tr>\n",
       "      <th>17</th>\n",
       "      <td>22</td>\n",
       "      <td>Female</td>\n",
       "      <td>59</td>\n",
       "      <td>Lightning, Etcher of the King</td>\n",
       "      <td>1.65</td>\n",
       "      <td>Aenarap34</td>\n",
       "      <td>20-24</td>\n",
       "    </tr>\n",
       "    <tr>\n",
       "      <th>18</th>\n",
       "      <td>28</td>\n",
       "      <td>Male</td>\n",
       "      <td>91</td>\n",
       "      <td>Celeste</td>\n",
       "      <td>3.71</td>\n",
       "      <td>Iskista88</td>\n",
       "      <td>25-29</td>\n",
       "    </tr>\n",
       "    <tr>\n",
       "      <th>19</th>\n",
       "      <td>31</td>\n",
       "      <td>Male</td>\n",
       "      <td>177</td>\n",
       "      <td>Winterthorn, Defender of Shifting Worlds</td>\n",
       "      <td>4.89</td>\n",
       "      <td>Assossa43</td>\n",
       "      <td>30-34</td>\n",
       "    </tr>\n",
       "  </tbody>\n",
       "</table>\n",
       "</div>"
      ],
      "text/plain": [
       "    Age  Gender  Item ID                                  Item Name  Price  \\\n",
       "0    38    Male      165                Bone Crushing Silver Skewer   3.37   \n",
       "1    21    Male      119  Stormbringer, Dark Blade of Ending Misery   2.32   \n",
       "2    34    Male      174                            Primitive Blade   2.46   \n",
       "3    21    Male       92                               Final Critic   1.36   \n",
       "4    23    Male       63                             Stormfury Mace   1.27   \n",
       "5    20    Male       10                                Sleepwalker   1.73   \n",
       "6    20    Male      153                            Mercenary Sabre   4.57   \n",
       "7    29  Female      169     Interrogator, Blood Blade of the Queen   3.32   \n",
       "8    25    Male      118           Ghost Reaver, Longsword of Magic   2.77   \n",
       "9    31    Male       99       Expiration, Warscythe Of Lost Worlds   4.53   \n",
       "10   24    Male       57            Despair, Favor of Due Diligence   3.81   \n",
       "11   20    Male       47                Alpha, Reach of Ending Hope   1.55   \n",
       "12   30    Male       81                                  Dreamkiss   4.06   \n",
       "13   23    Male       77                 Piety, Guardian of Riddles   3.68   \n",
       "14   40    Male       44                      Bonecarvin Battle Axe   2.46   \n",
       "15   21    Male       96                Blood-Forged Skeletal Spine   4.77   \n",
       "16   22  Female      123                          Twilight's Carver   1.14   \n",
       "17   22  Female       59              Lightning, Etcher of the King   1.65   \n",
       "18   28    Male       91                                    Celeste   3.71   \n",
       "19   31    Male      177   Winterthorn, Defender of Shifting Worlds   4.89   \n",
       "\n",
       "                 SN Age Ranges  \n",
       "0         Aelalis34      35-39  \n",
       "1            Eolo46      20-24  \n",
       "2       Assastnya25      30-34  \n",
       "3      Pheusrical25      20-24  \n",
       "4            Aela59      20-24  \n",
       "5        Tanimnya91      20-24  \n",
       "6       Undjaskla97      20-24  \n",
       "7      Iathenudil29      25-29  \n",
       "8      Sondenasta63      25-29  \n",
       "9        Hilaerin92      30-34  \n",
       "10       Chamosia29      20-24  \n",
       "11          Sally64      20-24  \n",
       "12        Iskossa88      30-34  \n",
       "13  Seorithstilis90      20-24  \n",
       "14        Sundast29        40+  \n",
       "15       Haellysu29      20-24  \n",
       "16       Sundista85      20-24  \n",
       "17        Aenarap34      20-24  \n",
       "18        Iskista88      25-29  \n",
       "19        Assossa43      30-34  "
      ]
     },
     "execution_count": 206,
     "metadata": {},
     "output_type": "execute_result"
    }
   ],
   "source": [
    "# View the first 20 rows of the original DF\n",
    "\n",
    "purchase_data_pimoli.head(20)"
   ]
  },
  {
   "cell_type": "code",
   "execution_count": 207,
   "metadata": {},
   "outputs": [],
   "source": [
    "# Group the original DF by the SN to get a DataFrameGroupByObject\n",
    "\n",
    "df_groupby_SN = purchase_data_pimoli.groupby([\"SN\"])"
   ]
  },
  {
   "cell_type": "code",
   "execution_count": 208,
   "metadata": {},
   "outputs": [],
   "source": [
    "# Calculate the totals for each SN and display the result\n",
    "\n",
    "groupby_SN_Price_series = df_groupby_SN[\"Price\"].sum()"
   ]
  },
  {
   "cell_type": "code",
   "execution_count": 209,
   "metadata": {},
   "outputs": [
    {
     "data": {
      "text/plain": [
       "SN\n",
       "Adairialis76    2.46\n",
       "Aduephos78      6.70\n",
       "Aeduera68       5.80\n",
       "Aela49          2.46\n",
       "Aela59          1.27\n",
       "Aelalis34       5.06\n",
       "Aelin32         3.14\n",
       "Aeliriam77      6.72\n",
       "Aeliriarin93    2.04\n",
       "Aeliru63        8.98\n",
       "Name: Price, dtype: float64"
      ]
     },
     "execution_count": 209,
     "metadata": {},
     "output_type": "execute_result"
    }
   ],
   "source": [
    "# View the first 10 rows of the new series\n",
    "\n",
    "groupby_SN_Price_series.head(10)"
   ]
  },
  {
   "cell_type": "code",
   "execution_count": 210,
   "metadata": {},
   "outputs": [
    {
     "data": {
      "text/plain": [
       "pandas.core.groupby.DataFrameGroupBy"
      ]
     },
     "execution_count": 210,
     "metadata": {},
     "output_type": "execute_result"
    }
   ],
   "source": [
    "type(df_groupby_SN)"
   ]
  },
  {
   "cell_type": "code",
   "execution_count": 211,
   "metadata": {},
   "outputs": [],
   "source": [
    "#Sort the values for the series from highest to lowest\n",
    "\n",
    "sorted_groupby_SN_Price_series = groupby_SN_Price_series.sort_values(ascending=False)"
   ]
  },
  {
   "cell_type": "code",
   "execution_count": 212,
   "metadata": {},
   "outputs": [
    {
     "data": {
      "text/plain": [
       "SN\n",
       "Undirrala66    17.06\n",
       "Saedue76       13.56\n",
       "Mindimnya67    12.74\n",
       "Haellysu29     12.73\n",
       "Eoda93         11.58\n",
       "Name: Price, dtype: float64"
      ]
     },
     "execution_count": 212,
     "metadata": {},
     "output_type": "execute_result"
    }
   ],
   "source": [
    "# View the series\n",
    "\n",
    "sorted_groupby_SN_Price_series.head()"
   ]
  },
  {
   "cell_type": "code",
   "execution_count": 213,
   "metadata": {},
   "outputs": [
    {
     "data": {
      "text/plain": [
       "17.06"
      ]
     },
     "execution_count": 213,
     "metadata": {},
     "output_type": "execute_result"
    }
   ],
   "source": [
    "# Verify result\n",
    "\n",
    "sorted_groupby_SN_Price_series[0]"
   ]
  },
  {
   "cell_type": "code",
   "execution_count": 214,
   "metadata": {},
   "outputs": [
    {
     "data": {
      "text/plain": [
       "'Undirrala66'"
      ]
     },
     "execution_count": 214,
     "metadata": {},
     "output_type": "execute_result"
    }
   ],
   "source": [
    "# Verify result\n",
    "\n",
    "sorted_groupby_SN_Price_series.index[0]"
   ]
  },
  {
   "cell_type": "code",
   "execution_count": 215,
   "metadata": {},
   "outputs": [],
   "source": [
    "# Store SN for each of highest spenders\n",
    "\n",
    "highest_spender = sorted_groupby_SN_Price_series.index[0]\n",
    "second_highest_spender = sorted_groupby_SN_Price_series.index[1]\n",
    "third_highest_spender = sorted_groupby_SN_Price_series.index[2]\n",
    "fourth_highest_spender = sorted_groupby_SN_Price_series.index[3]\n",
    "fifth_highest_spender = sorted_groupby_SN_Price_series.index[4]"
   ]
  },
  {
   "cell_type": "code",
   "execution_count": 216,
   "metadata": {},
   "outputs": [],
   "source": [
    "# Store total purchase value for each of highest spenders\n",
    "\n",
    "highest_spender_total_purchase_value = round(sorted_groupby_SN_Price_series[0],2)\n",
    "str_highest_spender_total_purchase_value = '$' + str(highest_spender_total_purchase_value)\n",
    "second_highest_spender_total_purchase_value = round(sorted_groupby_SN_Price_series[1],2)\n",
    "str_second_highest_spender_total_purchase_value = '$' + str(second_highest_spender_total_purchase_value)\n",
    "third_highest_spender_total_purchase_value = round(sorted_groupby_SN_Price_series[2],2)\n",
    "str_third_highest_spender_total_purchase_value = '$' + str(third_highest_spender_total_purchase_value)\n",
    "fourth_highest_spender_total_purchase_value =  round(sorted_groupby_SN_Price_series[3],2)\n",
    "str_fourth_highest_spender_total_purchase_value = '$' + str(fourth_highest_spender_total_purchase_value)\n",
    "fifth_highest_spender_total_purchase_value = round(sorted_groupby_SN_Price_series[4],2)\n",
    "str_fifth_highest_spender_total_purchase_value = '$' + str(fifth_highest_spender_total_purchase_value)\n"
   ]
  },
  {
   "cell_type": "code",
   "execution_count": 217,
   "metadata": {},
   "outputs": [],
   "source": [
    "# Calculate item count for each of highest spenders\n",
    "\n",
    "groupby_SN_Item_Name_series = df_groupby_SN[\"Item Name\"].count()"
   ]
  },
  {
   "cell_type": "code",
   "execution_count": 218,
   "metadata": {},
   "outputs": [
    {
     "data": {
      "text/plain": [
       "SN\n",
       "Adairialis76    1\n",
       "Aduephos78      3\n",
       "Aeduera68       3\n",
       "Aela49          1\n",
       "Aela59          1\n",
       "Name: Item Name, dtype: int64"
      ]
     },
     "execution_count": 218,
     "metadata": {},
     "output_type": "execute_result"
    }
   ],
   "source": [
    "groupby_SN_Item_Name_series.head()"
   ]
  },
  {
   "cell_type": "code",
   "execution_count": 219,
   "metadata": {},
   "outputs": [
    {
     "data": {
      "text/plain": [
       "5"
      ]
     },
     "execution_count": 219,
     "metadata": {},
     "output_type": "execute_result"
    }
   ],
   "source": [
    "groupby_SN_Item_Name_series[highest_spender]"
   ]
  },
  {
   "cell_type": "code",
   "execution_count": 220,
   "metadata": {},
   "outputs": [],
   "source": [
    "# Store item count for each of highest spenders\n",
    "\n",
    "highest_spender_item_count = groupby_SN_Item_Name_series[highest_spender]\n",
    "second_highest_spender_item_count = groupby_SN_Item_Name_series[second_highest_spender]\n",
    "third_highest_spender_item_count = groupby_SN_Item_Name_series[third_highest_spender]\n",
    "fourth_highest_spender_item_count = groupby_SN_Item_Name_series[fourth_highest_spender]\n",
    "fifth_highest_spender_item_count = groupby_SN_Item_Name_series[fifth_highest_spender]"
   ]
  },
  {
   "cell_type": "code",
   "execution_count": 221,
   "metadata": {},
   "outputs": [],
   "source": [
    "# Calculate the average purchase prices for each of highest spenders\n",
    "\n",
    "groupby_SN_Price_avg_series = df_groupby_SN[\"Price\"].mean()"
   ]
  },
  {
   "cell_type": "code",
   "execution_count": 222,
   "metadata": {},
   "outputs": [
    {
     "data": {
      "text/plain": [
       "SN\n",
       "Adairialis76    2.460000\n",
       "Aduephos78      2.233333\n",
       "Aeduera68       1.933333\n",
       "Aela49          2.460000\n",
       "Aela59          1.270000\n",
       "Name: Price, dtype: float64"
      ]
     },
     "execution_count": 222,
     "metadata": {},
     "output_type": "execute_result"
    }
   ],
   "source": [
    "groupby_SN_Price_avg_series.head()"
   ]
  },
  {
   "cell_type": "code",
   "execution_count": 223,
   "metadata": {},
   "outputs": [
    {
     "data": {
      "text/plain": [
       "3.412"
      ]
     },
     "execution_count": 223,
     "metadata": {},
     "output_type": "execute_result"
    }
   ],
   "source": [
    "# Calculate average purchase price for highest spender\n",
    "\n",
    "groupby_SN_Price_avg_series[highest_spender]"
   ]
  },
  {
   "cell_type": "code",
   "execution_count": 226,
   "metadata": {},
   "outputs": [],
   "source": [
    "# Store average prices for each of highest spenders\n",
    "\n",
    "highest_spender_avg_price = round(groupby_SN_Price_avg_series[highest_spender],2)\n",
    "str_highest_spender_avg_price = '$' + str(highest_spender_avg_price)\n",
    "second_highest_spender_avg_price = round(groupby_SN_Price_avg_series[second_highest_spender],2)\n",
    "str_second_highest_spender_avg_price = '$' + str(second_highest_spender_avg_price)\n",
    "third_highest_spender_avg_price = round(groupby_SN_Price_avg_series[third_highest_spender],2)\n",
    "str_third_highest_spender_avg_price = '$' + str(third_highest_spender_avg_price)\n",
    "fourth_highest_spender_avg_price = round(groupby_SN_Price_avg_series[fourth_highest_spender],2)\n",
    "str_fourth_highest_spender_avg_price = '$' + str(fourth_highest_spender_avg_price)\n",
    "fifth_highest_spender_avg_price = round(groupby_SN_Price_avg_series[fifth_highest_spender],2)\n",
    "str_fifth_highest_spender_avg_price = '$' + str(fifth_highest_spender_avg_price)"
   ]
  },
  {
   "cell_type": "code",
   "execution_count": 228,
   "metadata": {
    "scrolled": true
   },
   "outputs": [
    {
     "data": {
      "text/html": [
       "<div>\n",
       "<style scoped>\n",
       "    .dataframe tbody tr th:only-of-type {\n",
       "        vertical-align: middle;\n",
       "    }\n",
       "\n",
       "    .dataframe tbody tr th {\n",
       "        vertical-align: top;\n",
       "    }\n",
       "\n",
       "    .dataframe thead th {\n",
       "        text-align: right;\n",
       "    }\n",
       "</style>\n",
       "<table border=\"1\" class=\"dataframe\">\n",
       "  <thead>\n",
       "    <tr style=\"text-align: right;\">\n",
       "      <th></th>\n",
       "      <th>SN</th>\n",
       "      <th>Purchase Count</th>\n",
       "      <th>Average Purchase Price</th>\n",
       "      <th>Total Purchase Value</th>\n",
       "    </tr>\n",
       "  </thead>\n",
       "  <tbody>\n",
       "    <tr>\n",
       "      <th>0</th>\n",
       "      <td>Undirrala66</td>\n",
       "      <td>5</td>\n",
       "      <td>$3.41</td>\n",
       "      <td>$17.06</td>\n",
       "    </tr>\n",
       "    <tr>\n",
       "      <th>1</th>\n",
       "      <td>Saedue76</td>\n",
       "      <td>4</td>\n",
       "      <td>$3.39</td>\n",
       "      <td>$13.56</td>\n",
       "    </tr>\n",
       "    <tr>\n",
       "      <th>2</th>\n",
       "      <td>Mindimnya67</td>\n",
       "      <td>4</td>\n",
       "      <td>$3.18</td>\n",
       "      <td>$12.74</td>\n",
       "    </tr>\n",
       "    <tr>\n",
       "      <th>3</th>\n",
       "      <td>Haellysu29</td>\n",
       "      <td>3</td>\n",
       "      <td>$4.24</td>\n",
       "      <td>$12.73</td>\n",
       "    </tr>\n",
       "    <tr>\n",
       "      <th>4</th>\n",
       "      <td>Eoda93</td>\n",
       "      <td>3</td>\n",
       "      <td>$3.86</td>\n",
       "      <td>$11.58</td>\n",
       "    </tr>\n",
       "  </tbody>\n",
       "</table>\n",
       "</div>"
      ],
      "text/plain": [
       "            SN  Purchase Count Average Purchase Price Total Purchase Value\n",
       "0  Undirrala66               5                  $3.41               $17.06\n",
       "1     Saedue76               4                  $3.39               $13.56\n",
       "2  Mindimnya67               4                  $3.18               $12.74\n",
       "3   Haellysu29               3                  $4.24               $12.73\n",
       "4       Eoda93               3                  $3.86               $11.58"
      ]
     },
     "execution_count": 228,
     "metadata": {},
     "output_type": "execute_result"
    }
   ],
   "source": [
    "# Create the new DF for the five highest spenders \n",
    "\n",
    "top_spender_df = pd.DataFrame([[highest_spender, highest_spender_item_count, str_highest_spender_avg_price, str_highest_spender_total_purchase_value], [second_highest_spender, second_highest_spender_item_count, str_second_highest_spender_avg_price, str_second_highest_spender_total_purchase_value], [third_highest_spender, third_highest_spender_item_count, str_third_highest_spender_avg_price, str_third_highest_spender_total_purchase_value], [fourth_highest_spender, fourth_highest_spender_item_count, str_fourth_highest_spender_avg_price, str_fourth_highest_spender_total_purchase_value], [fifth_highest_spender, fifth_highest_spender_item_count, str_fifth_highest_spender_avg_price, str_fifth_highest_spender_total_purchase_value]], columns = ['SN', 'Purchase Count', 'Average Purchase Price', 'Total Purchase Value'])\n",
    "\n",
    "top_spender_df"
   ]
  },
  {
   "cell_type": "markdown",
   "metadata": {},
   "source": [
    "# Most Popular Items"
   ]
  },
  {
   "cell_type": "markdown",
   "metadata": {},
   "source": [
    "Identify the 5 most popular items by purchase count, then list (in a table):\n",
    "  * Item ID\n",
    "  * Item Name\n",
    "  * Purchase Count\n",
    "  * Item Price\n",
    "  * Total Purchase Value"
   ]
  },
  {
   "cell_type": "code",
   "execution_count": 229,
   "metadata": {},
   "outputs": [],
   "source": [
    "# Store the original DF\n",
    "\n",
    "df2 = purchase_data_pimoli"
   ]
  },
  {
   "cell_type": "code",
   "execution_count": 230,
   "metadata": {},
   "outputs": [
    {
     "data": {
      "text/html": [
       "<div>\n",
       "<style scoped>\n",
       "    .dataframe tbody tr th:only-of-type {\n",
       "        vertical-align: middle;\n",
       "    }\n",
       "\n",
       "    .dataframe tbody tr th {\n",
       "        vertical-align: top;\n",
       "    }\n",
       "\n",
       "    .dataframe thead th {\n",
       "        text-align: right;\n",
       "    }\n",
       "</style>\n",
       "<table border=\"1\" class=\"dataframe\">\n",
       "  <thead>\n",
       "    <tr style=\"text-align: right;\">\n",
       "      <th></th>\n",
       "      <th>Age</th>\n",
       "      <th>Gender</th>\n",
       "      <th>Item ID</th>\n",
       "      <th>Item Name</th>\n",
       "      <th>Price</th>\n",
       "      <th>SN</th>\n",
       "      <th>Age Ranges</th>\n",
       "    </tr>\n",
       "  </thead>\n",
       "  <tbody>\n",
       "    <tr>\n",
       "      <th>0</th>\n",
       "      <td>38</td>\n",
       "      <td>Male</td>\n",
       "      <td>165</td>\n",
       "      <td>Bone Crushing Silver Skewer</td>\n",
       "      <td>3.37</td>\n",
       "      <td>Aelalis34</td>\n",
       "      <td>35-39</td>\n",
       "    </tr>\n",
       "    <tr>\n",
       "      <th>1</th>\n",
       "      <td>21</td>\n",
       "      <td>Male</td>\n",
       "      <td>119</td>\n",
       "      <td>Stormbringer, Dark Blade of Ending Misery</td>\n",
       "      <td>2.32</td>\n",
       "      <td>Eolo46</td>\n",
       "      <td>20-24</td>\n",
       "    </tr>\n",
       "    <tr>\n",
       "      <th>2</th>\n",
       "      <td>34</td>\n",
       "      <td>Male</td>\n",
       "      <td>174</td>\n",
       "      <td>Primitive Blade</td>\n",
       "      <td>2.46</td>\n",
       "      <td>Assastnya25</td>\n",
       "      <td>30-34</td>\n",
       "    </tr>\n",
       "    <tr>\n",
       "      <th>3</th>\n",
       "      <td>21</td>\n",
       "      <td>Male</td>\n",
       "      <td>92</td>\n",
       "      <td>Final Critic</td>\n",
       "      <td>1.36</td>\n",
       "      <td>Pheusrical25</td>\n",
       "      <td>20-24</td>\n",
       "    </tr>\n",
       "    <tr>\n",
       "      <th>4</th>\n",
       "      <td>23</td>\n",
       "      <td>Male</td>\n",
       "      <td>63</td>\n",
       "      <td>Stormfury Mace</td>\n",
       "      <td>1.27</td>\n",
       "      <td>Aela59</td>\n",
       "      <td>20-24</td>\n",
       "    </tr>\n",
       "  </tbody>\n",
       "</table>\n",
       "</div>"
      ],
      "text/plain": [
       "   Age Gender  Item ID                                  Item Name  Price  \\\n",
       "0   38   Male      165                Bone Crushing Silver Skewer   3.37   \n",
       "1   21   Male      119  Stormbringer, Dark Blade of Ending Misery   2.32   \n",
       "2   34   Male      174                            Primitive Blade   2.46   \n",
       "3   21   Male       92                               Final Critic   1.36   \n",
       "4   23   Male       63                             Stormfury Mace   1.27   \n",
       "\n",
       "             SN Age Ranges  \n",
       "0     Aelalis34      35-39  \n",
       "1        Eolo46      20-24  \n",
       "2   Assastnya25      30-34  \n",
       "3  Pheusrical25      20-24  \n",
       "4        Aela59      20-24  "
      ]
     },
     "execution_count": 230,
     "metadata": {},
     "output_type": "execute_result"
    }
   ],
   "source": [
    "# Display the original DF first 5 rows\n",
    "\n",
    "df2.head()"
   ]
  },
  {
   "cell_type": "code",
   "execution_count": 231,
   "metadata": {},
   "outputs": [],
   "source": [
    "# Index the original DF by the column Item ID to get a series with Item IDs and all their relevant information from the original \n",
    "# DF\n",
    "\n",
    "purchase_data_item_id_series = purchase_data_pimoli[\"Item ID\"]"
   ]
  },
  {
   "cell_type": "code",
   "execution_count": 232,
   "metadata": {},
   "outputs": [],
   "source": [
    "# Use the .value_counts() method to get the counts for each of the Item IDs which creates a new series\n",
    "items_purchased_count_series = purchase_data_item_id_series.value_counts()"
   ]
  },
  {
   "cell_type": "code",
   "execution_count": 233,
   "metadata": {},
   "outputs": [
    {
     "data": {
      "text/plain": [
       "84     11\n",
       "39     11\n",
       "31      9\n",
       "34      9\n",
       "175     9\n",
       "Name: Item ID, dtype: int64"
      ]
     },
     "execution_count": 233,
     "metadata": {},
     "output_type": "execute_result"
    }
   ],
   "source": [
    "# Display the first 5 rows of the series\n",
    "\n",
    "items_purchased_count_series.head()"
   ]
  },
  {
   "cell_type": "code",
   "execution_count": 236,
   "metadata": {},
   "outputs": [
    {
     "data": {
      "text/html": [
       "<div>\n",
       "<style scoped>\n",
       "    .dataframe tbody tr th:only-of-type {\n",
       "        vertical-align: middle;\n",
       "    }\n",
       "\n",
       "    .dataframe tbody tr th {\n",
       "        vertical-align: top;\n",
       "    }\n",
       "\n",
       "    .dataframe thead th {\n",
       "        text-align: right;\n",
       "    }\n",
       "</style>\n",
       "<table border=\"1\" class=\"dataframe\">\n",
       "  <thead>\n",
       "    <tr style=\"text-align: right;\">\n",
       "      <th></th>\n",
       "      <th>Item ID</th>\n",
       "      <th>Item Name</th>\n",
       "      <th>Purchase Count</th>\n",
       "      <th>Price</th>\n",
       "      <th>Total Purchase Price</th>\n",
       "    </tr>\n",
       "  </thead>\n",
       "  <tbody>\n",
       "    <tr>\n",
       "      <th>0</th>\n",
       "      <td>84</td>\n",
       "      <td>Arcane Gem</td>\n",
       "      <td>11</td>\n",
       "      <td>$2.23</td>\n",
       "      <td>$24.53</td>\n",
       "    </tr>\n",
       "    <tr>\n",
       "      <th>1</th>\n",
       "      <td>39</td>\n",
       "      <td>Betrayal, Whisper of Grieving Widows</td>\n",
       "      <td>11</td>\n",
       "      <td>$2.35</td>\n",
       "      <td>$25.85</td>\n",
       "    </tr>\n",
       "    <tr>\n",
       "      <th>2</th>\n",
       "      <td>31</td>\n",
       "      <td>Trickster</td>\n",
       "      <td>9</td>\n",
       "      <td>$2.07</td>\n",
       "      <td>$18.63</td>\n",
       "    </tr>\n",
       "    <tr>\n",
       "      <th>3</th>\n",
       "      <td>34</td>\n",
       "      <td>Retribution Axe</td>\n",
       "      <td>9</td>\n",
       "      <td>$4.14</td>\n",
       "      <td>$37.26</td>\n",
       "    </tr>\n",
       "    <tr>\n",
       "      <th>4</th>\n",
       "      <td>175</td>\n",
       "      <td>Woeful Adamantite Claymore</td>\n",
       "      <td>9</td>\n",
       "      <td>$1.24</td>\n",
       "      <td>$11.16</td>\n",
       "    </tr>\n",
       "  </tbody>\n",
       "</table>\n",
       "</div>"
      ],
      "text/plain": [
       "   Item ID                             Item Name  Purchase Count  Price  \\\n",
       "0       84                            Arcane Gem              11  $2.23   \n",
       "1       39  Betrayal, Whisper of Grieving Widows              11  $2.35   \n",
       "2       31                             Trickster               9  $2.07   \n",
       "3       34                       Retribution Axe               9  $4.14   \n",
       "4      175            Woeful Adamantite Claymore               9  $1.24   \n",
       "\n",
       "  Total Purchase Price  \n",
       "0               $24.53  \n",
       "1               $25.85  \n",
       "2               $18.63  \n",
       "3               $37.26  \n",
       "4               $11.16  "
      ]
     },
     "execution_count": 236,
     "metadata": {},
     "output_type": "execute_result"
    }
   ],
   "source": [
    "\n",
    "# Create an empty list that will get each row of data for the dataframe appended to it in the for range loop below\n",
    "\n",
    "list_of_rows = []\n",
    "\n",
    "for i in range(0, 5, 1):\n",
    "    \n",
    "    # go through and get the topmost 5 items for our results\n",
    "    \n",
    "    item_id_sold = items_purchased_count_series.index[i]        # this is the id of the next most bought item\n",
    "    \n",
    "    # Build a boolean series for each row that has the same \"Item ID\" as the one we are looking for. This series\n",
    "    # will be the same size as the dataframe df2, with each row containing a 'True' where the 'Item ID' was the \n",
    "    # same as the item number (item_id_sold) we are looking for\n",
    "    \n",
    "    boolean_series_with_item_id = df2[\"Item ID\"] == item_id_sold\n",
    "    \n",
    "    # The next statement will select only rows from the dataframe df2, where the rows have a boolean value = 'True' in\n",
    "    # the boolean_series_with_item_id series generated above\n",
    "    \n",
    "    df_with_only_item_id_wanted = df2.loc[boolean_series_with_item_id]\n",
    "    \n",
    "    # The dataframe generated (df_with_only_item_id_wanted) will only have rows with all the same \"Item ID\" and \"Item Name\", ...\n",
    "    # Therefore, we just get the name, price from the 1st row of the dataframe. We could have gotten this information from any\n",
    "    # row in the dataframe\n",
    "    \n",
    "    item_name_wanted = df_with_only_item_id_wanted.iloc[0][\"Item Name\"]\n",
    "    item_wanted_price = df_with_only_item_id_wanted.iloc[0][\"Price\"]\n",
    "    str_item_wanted_price = '$' + str(item_wanted_price)\n",
    "    \n",
    "    # Add all the prices, so we get the total spent for this item\n",
    "    \n",
    "    total_purchase_price_for_item = round(df_with_only_item_id_wanted[\"Price\"].sum(), 2)\n",
    "    str_total_purchase_price_for_item = '$' + str(total_purchase_price_for_item)\n",
    "    \n",
    "    # The value in this series is the number an item was bought\n",
    "    \n",
    "    count_of_item_sold = items_purchased_count_series.values[i]\n",
    "    \n",
    "    # Make a list containing all the data for the next row of the dataframe we are putting together\n",
    "    \n",
    "    next_row_to_add_to_df = [item_id_sold, item_name_wanted, count_of_item_sold, str_item_wanted_price, str_total_purchase_price_for_item]\n",
    "    \n",
    "    # append the list we just created above to the list that contains all the rows (inner lists) for the dataframe\n",
    "    \n",
    "    list_of_rows.append(next_row_to_add_to_df)\n",
    "\n",
    "    \n",
    "# this is outside the for range loop. The rows of data are created for the dataframe. \n",
    "\n",
    "# Create a list of the columns    \n",
    "\n",
    "df6_columns = ['Item ID', 'Item Name', 'Purchase Count', 'Price', 'Total Purchase Price']\n",
    "\n",
    "# Create the dataframe with the list of rows created in the for range loop and the column labels\n",
    "\n",
    "df_most_popular_item = pd.DataFrame(list_of_rows, columns=df6_columns)\n",
    "\n",
    "# Display the dataframe\n",
    "\n",
    "df_most_popular_item\n",
    "    \n",
    " "
   ]
  },
  {
   "cell_type": "markdown",
   "metadata": {},
   "source": [
    "# Most Profitable Items"
   ]
  },
  {
   "cell_type": "markdown",
   "metadata": {},
   "source": [
    "Identify the 5 most profitable items by total purchase value, then list (in a table):\n",
    "  * Item ID\n",
    "  * Item Name\n",
    "  * Purchase Count\n",
    "  * Item Price\n",
    "  * Total Purchase Value"
   ]
  },
  {
   "cell_type": "code",
   "execution_count": 238,
   "metadata": {},
   "outputs": [
    {
     "data": {
      "text/html": [
       "<div>\n",
       "<style scoped>\n",
       "    .dataframe tbody tr th:only-of-type {\n",
       "        vertical-align: middle;\n",
       "    }\n",
       "\n",
       "    .dataframe tbody tr th {\n",
       "        vertical-align: top;\n",
       "    }\n",
       "\n",
       "    .dataframe thead th {\n",
       "        text-align: right;\n",
       "    }\n",
       "</style>\n",
       "<table border=\"1\" class=\"dataframe\">\n",
       "  <thead>\n",
       "    <tr style=\"text-align: right;\">\n",
       "      <th></th>\n",
       "      <th>Age</th>\n",
       "      <th>Gender</th>\n",
       "      <th>Item ID</th>\n",
       "      <th>Item Name</th>\n",
       "      <th>Price</th>\n",
       "      <th>SN</th>\n",
       "      <th>Age Ranges</th>\n",
       "    </tr>\n",
       "  </thead>\n",
       "  <tbody>\n",
       "    <tr>\n",
       "      <th>0</th>\n",
       "      <td>38</td>\n",
       "      <td>Male</td>\n",
       "      <td>165</td>\n",
       "      <td>Bone Crushing Silver Skewer</td>\n",
       "      <td>3.37</td>\n",
       "      <td>Aelalis34</td>\n",
       "      <td>35-39</td>\n",
       "    </tr>\n",
       "    <tr>\n",
       "      <th>1</th>\n",
       "      <td>21</td>\n",
       "      <td>Male</td>\n",
       "      <td>119</td>\n",
       "      <td>Stormbringer, Dark Blade of Ending Misery</td>\n",
       "      <td>2.32</td>\n",
       "      <td>Eolo46</td>\n",
       "      <td>20-24</td>\n",
       "    </tr>\n",
       "    <tr>\n",
       "      <th>2</th>\n",
       "      <td>34</td>\n",
       "      <td>Male</td>\n",
       "      <td>174</td>\n",
       "      <td>Primitive Blade</td>\n",
       "      <td>2.46</td>\n",
       "      <td>Assastnya25</td>\n",
       "      <td>30-34</td>\n",
       "    </tr>\n",
       "    <tr>\n",
       "      <th>3</th>\n",
       "      <td>21</td>\n",
       "      <td>Male</td>\n",
       "      <td>92</td>\n",
       "      <td>Final Critic</td>\n",
       "      <td>1.36</td>\n",
       "      <td>Pheusrical25</td>\n",
       "      <td>20-24</td>\n",
       "    </tr>\n",
       "    <tr>\n",
       "      <th>4</th>\n",
       "      <td>23</td>\n",
       "      <td>Male</td>\n",
       "      <td>63</td>\n",
       "      <td>Stormfury Mace</td>\n",
       "      <td>1.27</td>\n",
       "      <td>Aela59</td>\n",
       "      <td>20-24</td>\n",
       "    </tr>\n",
       "  </tbody>\n",
       "</table>\n",
       "</div>"
      ],
      "text/plain": [
       "   Age Gender  Item ID                                  Item Name  Price  \\\n",
       "0   38   Male      165                Bone Crushing Silver Skewer   3.37   \n",
       "1   21   Male      119  Stormbringer, Dark Blade of Ending Misery   2.32   \n",
       "2   34   Male      174                            Primitive Blade   2.46   \n",
       "3   21   Male       92                               Final Critic   1.36   \n",
       "4   23   Male       63                             Stormfury Mace   1.27   \n",
       "\n",
       "             SN Age Ranges  \n",
       "0     Aelalis34      35-39  \n",
       "1        Eolo46      20-24  \n",
       "2   Assastnya25      30-34  \n",
       "3  Pheusrical25      20-24  \n",
       "4        Aela59      20-24  "
      ]
     },
     "execution_count": 238,
     "metadata": {},
     "output_type": "execute_result"
    }
   ],
   "source": [
    "# Display the first 5 rows of the original DF\n",
    "\n",
    "purchase_data_pimoli.head()"
   ]
  },
  {
   "cell_type": "code",
   "execution_count": 239,
   "metadata": {},
   "outputs": [
    {
     "data": {
      "text/plain": [
       "<pandas.core.groupby.DataFrameGroupBy object at 0x00000278EB454AC8>"
      ]
     },
     "execution_count": 239,
     "metadata": {},
     "output_type": "execute_result"
    }
   ],
   "source": [
    "# Group the original DF by the Item ID which creates a new DataFrameGroupBy object\n",
    "\n",
    "df_groupby_Item_ID = purchase_data_pimoli.groupby([\"Item ID\"])\n",
    "\n",
    "df_groupby_Item_ID"
   ]
  },
  {
   "cell_type": "code",
   "execution_count": 240,
   "metadata": {},
   "outputs": [
    {
     "data": {
      "text/plain": [
       "Item ID\n",
       "0    1.82\n",
       "1    9.12\n",
       "2    3.40\n",
       "3    1.79\n",
       "4    2.28\n",
       "Name: Price, dtype: float64"
      ]
     },
     "execution_count": 240,
     "metadata": {},
     "output_type": "execute_result"
    }
   ],
   "source": [
    "# Index the DF object by the Price column and calculate the sum for each Item ID. This creates a new series.\n",
    "\n",
    "group_by_Item_ID_Price_series = df_groupby_Item_ID[\"Price\"].sum()\n",
    "\n",
    "group_by_Item_ID_Price_series.head()"
   ]
  },
  {
   "cell_type": "code",
   "execution_count": 241,
   "metadata": {},
   "outputs": [
    {
     "data": {
      "text/plain": [
       "Item ID\n",
       "34     37.26\n",
       "115    29.75\n",
       "32     29.70\n",
       "103    29.22\n",
       "107    28.88\n",
       "Name: Price, dtype: float64"
      ]
     },
     "execution_count": 241,
     "metadata": {},
     "output_type": "execute_result"
    }
   ],
   "source": [
    "# Sort the values of the series so that the values range from highest to lowest\n",
    "\n",
    "sorted_group_by_Item_ID_Price_series = group_by_Item_ID_Price_series.sort_values(ascending=False)\n",
    "\n",
    "sorted_group_by_Item_ID_Price_series.head()"
   ]
  },
  {
   "cell_type": "code",
   "execution_count": 244,
   "metadata": {},
   "outputs": [
    {
     "data": {
      "text/html": [
       "<div>\n",
       "<style scoped>\n",
       "    .dataframe tbody tr th:only-of-type {\n",
       "        vertical-align: middle;\n",
       "    }\n",
       "\n",
       "    .dataframe tbody tr th {\n",
       "        vertical-align: top;\n",
       "    }\n",
       "\n",
       "    .dataframe thead th {\n",
       "        text-align: right;\n",
       "    }\n",
       "</style>\n",
       "<table border=\"1\" class=\"dataframe\">\n",
       "  <thead>\n",
       "    <tr style=\"text-align: right;\">\n",
       "      <th></th>\n",
       "      <th>Item ID</th>\n",
       "      <th>Item Name</th>\n",
       "      <th>Purchase Count</th>\n",
       "      <th>Price</th>\n",
       "      <th>Total Purchase Price</th>\n",
       "    </tr>\n",
       "  </thead>\n",
       "  <tbody>\n",
       "    <tr>\n",
       "      <th>0</th>\n",
       "      <td>34</td>\n",
       "      <td>Retribution Axe</td>\n",
       "      <td>9</td>\n",
       "      <td>$4.14</td>\n",
       "      <td>$37.26</td>\n",
       "    </tr>\n",
       "    <tr>\n",
       "      <th>1</th>\n",
       "      <td>115</td>\n",
       "      <td>Spectral Diamond Doomblade</td>\n",
       "      <td>7</td>\n",
       "      <td>$4.25</td>\n",
       "      <td>$29.75</td>\n",
       "    </tr>\n",
       "    <tr>\n",
       "      <th>2</th>\n",
       "      <td>32</td>\n",
       "      <td>Orenmir</td>\n",
       "      <td>6</td>\n",
       "      <td>$4.95</td>\n",
       "      <td>$29.7</td>\n",
       "    </tr>\n",
       "    <tr>\n",
       "      <th>3</th>\n",
       "      <td>103</td>\n",
       "      <td>Singed Scalpel</td>\n",
       "      <td>6</td>\n",
       "      <td>$4.87</td>\n",
       "      <td>$29.22</td>\n",
       "    </tr>\n",
       "    <tr>\n",
       "      <th>4</th>\n",
       "      <td>107</td>\n",
       "      <td>Splitter, Foe Of Subtlety</td>\n",
       "      <td>8</td>\n",
       "      <td>$3.61</td>\n",
       "      <td>$28.88</td>\n",
       "    </tr>\n",
       "  </tbody>\n",
       "</table>\n",
       "</div>"
      ],
      "text/plain": [
       "   Item ID                   Item Name  Purchase Count  Price  \\\n",
       "0       34             Retribution Axe               9  $4.14   \n",
       "1      115  Spectral Diamond Doomblade               7  $4.25   \n",
       "2       32                     Orenmir               6  $4.95   \n",
       "3      103              Singed Scalpel               6  $4.87   \n",
       "4      107   Splitter, Foe Of Subtlety               8  $3.61   \n",
       "\n",
       "  Total Purchase Price  \n",
       "0               $37.26  \n",
       "1               $29.75  \n",
       "2                $29.7  \n",
       "3               $29.22  \n",
       "4               $28.88  "
      ]
     },
     "execution_count": 244,
     "metadata": {},
     "output_type": "execute_result"
    }
   ],
   "source": [
    "# Create an empty list that will get each row of data for the dataframe appended to it in the for range loop below\n",
    "\n",
    "list_of_rows = []\n",
    "\n",
    "for i in range(0, 5, 1):\n",
    "    \n",
    "    # Go through and get the 5 items with the highest total purchase values for our results\n",
    "    item_id_item_profit = sorted_group_by_Item_ID_Price_series.index[i]        # This is the id of the item with the next highest purchase value\n",
    "    \n",
    "    # Build a boolean series for each row that has the same \"Item ID\" as the one we are looking for. This series\n",
    "    # will be the same size as the dataframe df2, with each row containing a 'True' where the 'Item ID' was the \n",
    "    # same as the item number (item_id_sold) we are looking for\n",
    "    \n",
    "    boolean_series_with_item_id = purchase_data_pimoli[\"Item ID\"] == item_id_item_profit\n",
    "    \n",
    "    # The next statement will select only rows from the dataframe df2, where the rows have a boolean value = 'True' in\n",
    "    # the boolean_series_with_item_id series generated above\n",
    "    \n",
    "    df_with_only_item_id_wanted = purchase_data_pimoli.loc[boolean_series_with_item_id]\n",
    "    \n",
    "    # The dataframe generated (df_with_only_item_id_wanted) will only have rows with all the same \"Item ID\" and \"Item Name\", ...\n",
    "    # Therefore, we just get the name, price from the 1st row of the dataframe. We could have gotten this information from any\n",
    "    # row in the dataframe\n",
    "    \n",
    "    item_name_wanted = df_with_only_item_id_wanted.iloc[0][\"Item Name\"]\n",
    "    item_wanted_price = df_with_only_item_id_wanted.iloc[0][\"Price\"]\n",
    "    str_item_wanted_price = '$' + str(item_wanted_price)\n",
    "    item_wanted_count = df_with_only_item_id_wanted[\"Item Name\"].count()\n",
    "    \n",
    "    # The value in this series is the total purchase value of an item\n",
    "    \n",
    "    total_purchase_price_for_item = round(sorted_group_by_Item_ID_Price_series.values[i],3)\n",
    "    str_total_purchase_price_for_item = '$' + str(total_purchase_price_for_item)\n",
    "    \n",
    "    # Make a list containing all the data for the next row of the dataframe we are putting together\n",
    "    \n",
    "    next_row_to_add_to_df = [item_id_item_profit, item_name_wanted, item_wanted_count, str_item_wanted_price, str_total_purchase_price_for_item]\n",
    "    \n",
    "    # Append the list we just created above to the list that contains all the rows (inner lists) for the dataframe\n",
    "    \n",
    "    list_of_rows.append(next_row_to_add_to_df)\n",
    "\n",
    "    \n",
    "# This is outside the for range loop. The rows of data are created for the dataframe. \n",
    "\n",
    "# Create a list of the columns    \n",
    "\n",
    "df2columns = ['Item ID', 'Item Name', 'Purchase Count', 'Price', 'Total Purchase Price']\n",
    "\n",
    "# Create the dataframe with the list of rows created in the for range loop and the column labels\n",
    "\n",
    "df_most_profitable_item = pd.DataFrame(list_of_rows, columns = df2columns)\n",
    "\n",
    "# Display the dataframe\n",
    "\n",
    "df_most_profitable_item\n",
    "    \n",
    "    \n",
    "    "
   ]
  }
 ],
 "metadata": {
  "kernelspec": {
   "display_name": "Python (PythonData)",
   "language": "python",
   "name": "pythondata"
  },
  "language_info": {
   "codemirror_mode": {
    "name": "ipython",
    "version": 3
   },
   "file_extension": ".py",
   "mimetype": "text/x-python",
   "name": "python",
   "nbconvert_exporter": "python",
   "pygments_lexer": "ipython3",
   "version": "3.6.4"
  }
 },
 "nbformat": 4,
 "nbformat_minor": 2
}
